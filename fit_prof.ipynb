{
 "cells": [
  {
   "cell_type": "markdown",
   "id": "cff2518a-c34b-4f52-8292-d6b74907ae1a",
   "metadata": {},
   "source": [
    "## Fitting profiles with Markov Chain Monte Carlo\n",
    "This is a jupyter notebook intended to fit stellar density profiles to \n",
    "a bunch of clusters simulated. It fits the exponential radius, ellipticity"
   ]
  },
  {
   "cell_type": "code",
   "execution_count": 1,
   "id": "bbf1d770-16ae-4af4-94b5-fb87d67fce88",
   "metadata": {},
   "outputs": [
    {
     "ename": "ModuleNotFoundError",
     "evalue": "No module named 'emcee'",
     "output_type": "error",
     "traceback": [
      "\u001b[0;31m---------------------------------------------------------------------------\u001b[0m",
      "\u001b[0;31mModuleNotFoundError\u001b[0m                       Traceback (most recent call last)",
      "Input \u001b[0;32mIn [1]\u001b[0m, in \u001b[0;36m<module>\u001b[0;34m\u001b[0m\n\u001b[1;32m      1\u001b[0m \u001b[38;5;28;01mimport\u001b[39;00m \u001b[38;5;21;01mnumpy\u001b[39;00m \u001b[38;5;28;01mas\u001b[39;00m \u001b[38;5;21;01mnp\u001b[39;00m\n\u001b[1;32m      2\u001b[0m \u001b[38;5;28;01mimport\u001b[39;00m \u001b[38;5;21;01mmatplotlib\u001b[39;00m\u001b[38;5;21;01m.\u001b[39;00m\u001b[38;5;21;01mpyplot\u001b[39;00m \u001b[38;5;28;01mas\u001b[39;00m \u001b[38;5;21;01mplt\u001b[39;00m\n\u001b[0;32m----> 3\u001b[0m \u001b[38;5;28;01mimport\u001b[39;00m \u001b[38;5;21;01memcee\u001b[39;00m\n\u001b[1;32m      4\u001b[0m \u001b[38;5;28;01mimport\u001b[39;00m \u001b[38;5;21;01mastropy\u001b[39;00m\u001b[38;5;21;01m.\u001b[39;00m\u001b[38;5;21;01mio\u001b[39;00m\u001b[38;5;21;01m.\u001b[39;00m\u001b[38;5;21;01mfits\u001b[39;00m \u001b[38;5;28;01mas\u001b[39;00m \u001b[38;5;21;01mfits\u001b[39;00m\n\u001b[1;32m      5\u001b[0m \u001b[38;5;28;01mimport\u001b[39;00m \u001b[38;5;21;01mcorner\u001b[39;00m\n",
      "\u001b[0;31mModuleNotFoundError\u001b[0m: No module named 'emcee'"
     ]
    }
   ],
   "source": [
    "import numpy as np\n",
    "import matplotlib.pyplot as plt\n",
    "import emcee\n",
    "import astropy.io.fits as fits\n",
    "import corner"
   ]
  },
  {
   "cell_type": "markdown",
   "id": "790d023c-44ce-4865-b626-8fd97094bcb1",
   "metadata": {},
   "source": [
    "Below are a few functions (that should be documented) to provide the results of the fitting."
   ]
  },
  {
   "cell_type": "code",
   "execution_count": null,
   "id": "5a0bad63-3a40-4f58-98df-f5a6be79e97b",
   "metadata": {},
   "outputs": [
    {
     "name": "stdout",
     "output_type": "stream",
     "text": [
      "35934.0 0.15359148315490373 0.09 105.53 robg 52.7344 -28.631\n",
      "0.15359148315490373 0.1 1.0553 100.49797880886848 0.0 0.0\n"
     ]
    },
    {
     "name": "stderr",
     "output_type": "stream",
     "text": [
      "/tmp/ipykernel_23245/870490835.py:15: RuntimeWarning: invalid value encountered in log\n",
      "  if not np.isfinite(2.*np.sum(np.log(bg+s0*np.exp(-ri/re)))):\n"
     ]
    },
    {
     "name": "stdout",
     "output_type": "stream",
     "text": [
      "35934.0 0.05196043027156208 0.04323218081775747 130.3384156366609 100.4415760110896 -0.0003095377948625984 0.0021161296746692758\n",
      "35935.0 0.22917372628576235 0.02 78.61 robg 53.4375 -27.9532\n",
      "0.22917372628576235 0.1 0.7861 100.49047225816723 0.0 0.0\n"
     ]
    },
    {
     "name": "stderr",
     "output_type": "stream",
     "text": [
      "/tmp/ipykernel_23245/870490835.py:15: RuntimeWarning: invalid value encountered in log\n",
      "  if not np.isfinite(2.*np.sum(np.log(bg+s0*np.exp(-ri/re)))):\n"
     ]
    }
   ],
   "source": [
    "def lnprior(theta):\n",
    "    re, ell, th, bg, xc, yc = theta\n",
    "    if 0.01 < re < 20. and 0.0 < ell < 0.3 and -1.8 < th < 1.8 and 0. < bg < 500. and -3. < xc < 3. and -3. < yc < 3.:\n",
    "        return 0\n",
    "    return -np.inf\n",
    "\n",
    "\n",
    "def lnlike(theta, RA, DEC):\n",
    "    re, ell, th, bg, xc, yc = theta\n",
    "    dX = (RA-(ra0+xc/60.))*np.cos(np.radians(dec0))\n",
    "    dY = (DEC-(dec0+yc/60.))\n",
    "    ri = 60.*np.sqrt(((dX*np.cos(np.radians(100*th))-dY*np.sin(np.radians(100*th)))/(1.-ell))\n",
    "                     ** 2.+(dX*np.sin(np.radians(100*th))+dY*np.cos(np.radians(100*th)))**2.)\n",
    "    s0 = (len(RA)-bg*3600.)/((1-ell)*2.*np.pi*re**2)\n",
    "    if not np.isfinite(2.*np.sum(np.log(bg+s0*np.exp(-ri/re)))):\n",
    "        return -np.inf\n",
    "    return 2.*np.sum(np.log(bg+s0*np.exp(-ri/re)))\n",
    "\n",
    "\n",
    "def lnprob(theta, RA, DEC):\n",
    "    lp = lnprior(theta)\n",
    "    if not np.isfinite(lp):\n",
    "        return -np.inf\n",
    "    return lp + lnlike(theta, RA, DEC)\n",
    "\n",
    "\n",
    "# Some definitions:\n",
    "R0 = 1.0\n",
    "# ra0, dec0, reinf, resup, thmin, thmax = 67.3156, -23.8368, 0.1, 10., 0.0, 180.\n",
    "HPX_, ra0_, dec0_, re_kick_, ell_kick_, pa_kick_, dist = np.loadtxt(\n",
    "    'star_clusters_simulated.dat', usecols=(0, 6, 7, 8, 9, 10, 12), unpack=True)\n",
    "\n",
    "# Converting exponential radius from parsecs to arcmin\n",
    "re_kick = 60. * (180. / np.pi) * np.arctan(re_kick_ / dist)\n",
    "\n",
    "hdu = fits.open('des_mockcat_for_detection.fits', memmap=True)\n",
    "RA = hdu[1].data.field('ra')\n",
    "DEC = hdu[1].data.field('dec')\n",
    "MAGG = hdu[1].data.field('mag_g_with_err')\n",
    "MAGGERR = hdu[1].data.field('magerr_g')\n",
    "MAGR = hdu[1].data.field('mag_g_with_err')\n",
    "MAGRERR = hdu[1].data.field('magerr_r')\n",
    "hdu.close()\n",
    "\n",
    "print('                 HPX      re          ell           pa_kick_     robg   shift_ra    shift dec')\n",
    "for i in range(len(ra0_)):\n",
    "    print('Pars (ideal):', HPX_[i], re_kick[i], ell_kick_[i], pa_kick_[i], robg, '0.00', '0.00')\n",
    "    reinf = 0.5 * re_kick[i]\n",
    "    resup = 1.5 * re_kick[i]\n",
    "    thmin = pa_kick_[i] - 45.\n",
    "    thmax = pa_kick_[i] + 45.\n",
    "    ra0 = ra0_[i]\n",
    "    dec0 = dec0_[i]\n",
    "\n",
    "    R = 60.*np.sqrt(((np.cos(np.radians(dec0))*(ra0-RA))**2.)+(DEC-dec0)**2)\n",
    "\n",
    "    re_ml = (reinf + resup)/2.\n",
    "    ell_ml = 0.1\n",
    "    th_ml = (thmin + thmax)/200.\n",
    "    idbg = (R > R0)\n",
    "    robg = float(len(RA[idbg]))/(3600.-np.pi*(R0)**2)  # stars/arcmin^2\n",
    "    N_star = (len(RA)-robg*3600.)\n",
    "    s_ml = N_star/(2.*np.pi*re_ml**2)\n",
    "    xc_ml = 0.0\n",
    "    yc_ml = 0.0\n",
    "    result = re_ml, ell_ml, th_ml, robg, xc_ml, yc_ml\n",
    "    print(HPX_[i], re_ml, ell_ml, th_ml, robg, xc_ml, yc_ml)\n",
    "\n",
    "    ndim, nwalkers = 6, 300  # 300\n",
    "    pos = [result + 1e-4*np.random.randn(ndim) for j in range(nwalkers)]\n",
    "    sampler = emcee.EnsembleSampler(nwalkers, ndim, lnprob, args=(RA, DEC))\n",
    "    sampler.run_mcmc(pos, 500)  # 500\n",
    "    samples = sampler.chain[:, 100:, :].reshape((-1, ndim))\n",
    "\n",
    "    samples[:, 2] = 100.*(samples[:, 2])\n",
    "    re_mcmc, ell_mcmc, th_mcmc, robg_mcmc, xc_mcmc, yc_mcmc = map(lambda v: (\n",
    "        v[1], v[2]-v[1], v[1]-v[0]), zip(*np.percentile(samples, [16, 50, 84], axis=0)))\n",
    "\n",
    "    print(HPX_[i], re_mcmc[0], ell_mcmc[0], th_mcmc[0], robg_mcmc[0], xc_mcmc[0], yc_mcmc[0])\n",
    "# Plotting data\n",
    "    fig = corner.corner(samples, labels=[\"$re$\", \"$ell$\", \"$th$\", r\"$\\rho_{bg}$\", r\"$\\Delta\\alpha$\", r\"$\\Delta\\delta$\"], truths=[\n",
    "                        re_mcmc[0], ell_mcmc[0], th_mcmc[0], robg_mcmc[0], xc_mcmc[0], yc_mcmc[0]], quantiles=[0.16, 0.5, 0.84], show_titles=True, plot_contours=True)\n",
    "    plt.savefig(str(HPX_[i]) + '_plus.png')\n",
    "    plt.close()\n",
    "\n",
    "    L = np.zeros(len(RA))\n",
    "    dX = (RA-(ra0+xc_mcmc[0]/60.))*np.cos(np.radians(dec0))\n",
    "    dY = (DEC-(dec0+yc_mcmc[0]/60.))\n",
    "    ri = 60.*np.sqrt(((dX*np.cos(np.radians(100*th_mcmc[0]))-dY*np.sin(np.radians(100*th_mcmc[0])))/(\n",
    "        1.-ell_mcmc[0]))**2.+(dX*np.sin(np.radians(100*th_mcmc[0]))+dY*np.cos(np.radians(100*th_mcmc[0])))**2.)\n",
    "    L = (np.exp(-ri/re_mcmc[0]))\n",
    "\n",
    "#a = open('J0429_stars_list_profile.dat','w')\n",
    "# for j in range(len(RA)):\n",
    "#    if (L[j]<0.):\n",
    "#        L[j]=0.\n",
    "#    print >> a, RA[j], DEC[j], MAGG[j], MAGR[j], ERRG[j], ERRR[j], SM[j], L[j]\n",
    "# a.close"
   ]
  },
  {
   "cell_type": "code",
   "execution_count": null,
   "id": "bc4346c5-a403-4aae-a257-d7fea1483f3f",
   "metadata": {},
   "outputs": [],
   "source": []
  }
 ],
 "metadata": {
  "kernelspec": {
   "display_name": "Python 3 (ipykernel)",
   "language": "python",
   "name": "python3"
  },
  "language_info": {
   "codemirror_mode": {
    "name": "ipython",
    "version": 3
   },
   "file_extension": ".py",
   "mimetype": "text/x-python",
   "name": "python",
   "nbconvert_exporter": "python",
   "pygments_lexer": "ipython3",
   "version": "3.9.7"
  }
 },
 "nbformat": 4,
 "nbformat_minor": 5
}
