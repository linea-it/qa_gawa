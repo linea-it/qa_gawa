{
 "cells": [
  {
   "cell_type": "markdown",
   "id": "cff2518a-c34b-4f52-8292-d6b74907ae1a",
   "metadata": {},
   "source": [
    "## Fitting profiles with Markov Chain Monte Carlo\n",
    "This is a jupyter notebook intended to fit stellar density profiles to \n",
    "a bunch of clusters simulated. It fits the King profile, with core radius, tidal radius, ellipticity, angular position, background density and center shift in ra and dec.\n",
    "\n",
    "The code runs reading the position of the stars in a catalog and fitting the pars. After the fitting, the results should be compared to the\n",
    "truth table (the parameters of the clusters simulated).\n",
    "\n",
    "Open a terminal and run the following commands to create and activate a new environment and install dependencies:\n",
    "```\n",
    "conda create -p $HOME/.conda/envs/emcee_env\n",
    "conda activate emcee_env\n",
    "conda install -c astropy emcee\n",
    "conda install -c conda-forge matplotlib\n",
    "conda install astropy\n",
    "conda install -c astropy corner\n",
    "conda install ipykernel\n",
    "pip install astropy\n",
    "ipython kernel install --user --name=emcee_env\n",
    "```\n",
    "Activate the environment (if you are running the code in Linea's jupyter notebook). Restart the kernel on the jupyter\n",
    "notebook and load the new environment (clicking on the env on the top right selection).</br>\n",
    "Ok, now you are ready to run the code. </br>\n",
    "You can run this code on any machine since you follow the steps above to create an env and install dependencies."
   ]
  },
  {
   "cell_type": "code",
   "execution_count": 1,
   "id": "bbf1d770-16ae-4af4-94b5-fb87d67fce88",
   "metadata": {},
   "outputs": [],
   "source": [
    "import numpy as np\n",
    "import matplotlib.pyplot as plt\n",
    "import emcee\n",
    "import astropy.io.fits as fits\n",
    "import corner\n",
    "from multiprocessing import Pool\n"
   ]
  },
  {
   "cell_type": "markdown",
   "id": "790d023c-44ce-4865-b626-8fd97094bcb1",
   "metadata": {},
   "source": [
    "Below are a few functions (that will be documented in near future!) to provide the results of the fitting.\n",
    "This is very similar to the main example available on https://emcee.readthedocs.io/en/stable/tutorials/line/ .\n",
    "Please, visit that page to have a big picture of the fitting."
   ]
  },
  {
   "cell_type": "code",
   "execution_count": null,
   "id": "5a0bad63-3a40-4f58-98df-f5a6be79e97b",
   "metadata": {},
   "outputs": [
    {
     "name": "stdout",
     "output_type": "stream",
     "text": [
      "1.1594176183305205\n"
     ]
    },
    {
     "name": "stderr",
     "output_type": "stream",
     "text": [
      "/tmp/ipykernel_12026/2005705992.py:55: RuntimeWarning: invalid value encountered in log\n",
      "  if not np.isfinite(2.*np.sum(np.log(bg+s0*np.exp(-ri/re)))):\n",
      "/tmp/ipykernel_12026/2005705992.py:55: RuntimeWarning: invalid value encountered in log\n",
      "  if not np.isfinite(2.*np.sum(np.log(bg+s0*np.exp(-ri/re)))):\n",
      "/tmp/ipykernel_12026/2005705992.py:55: RuntimeWarning: invalid value encountered in log\n",
      "  if not np.isfinite(2.*np.sum(np.log(bg+s0*np.exp(-ri/re)))):\n",
      "/tmp/ipykernel_12026/2005705992.py:55: RuntimeWarning: invalid value encountered in log\n",
      "  if not np.isfinite(2.*np.sum(np.log(bg+s0*np.exp(-ri/re)))):\n",
      "/tmp/ipykernel_12026/2005705992.py:55: RuntimeWarning: invalid value encountered in log\n",
      "  if not np.isfinite(2.*np.sum(np.log(bg+s0*np.exp(-ri/re)))):\n",
      "/tmp/ipykernel_12026/2005705992.py:55: RuntimeWarning: invalid value encountered in log\n",
      "  if not np.isfinite(2.*np.sum(np.log(bg+s0*np.exp(-ri/re)))):\n",
      "/tmp/ipykernel_12026/2005705992.py:55: RuntimeWarning: invalid value encountered in log\n",
      "  if not np.isfinite(2.*np.sum(np.log(bg+s0*np.exp(-ri/re)))):\n",
      "/tmp/ipykernel_12026/2005705992.py:55: RuntimeWarning: invalid value encountered in log\n",
      "  if not np.isfinite(2.*np.sum(np.log(bg+s0*np.exp(-ri/re)))):\n"
     ]
    },
    {
     "name": "stdout",
     "output_type": "stream",
     "text": [
      "1.0960035106813215\n"
     ]
    },
    {
     "name": "stderr",
     "output_type": "stream",
     "text": [
      "/tmp/ipykernel_12026/2005705992.py:55: RuntimeWarning: invalid value encountered in log\n",
      "  if not np.isfinite(2.*np.sum(np.log(bg+s0*np.exp(-ri/re)))):\n",
      "/tmp/ipykernel_12026/2005705992.py:55: RuntimeWarning: invalid value encountered in log\n",
      "  if not np.isfinite(2.*np.sum(np.log(bg+s0*np.exp(-ri/re)))):\n",
      "/tmp/ipykernel_12026/2005705992.py:55: RuntimeWarning: invalid value encountered in log\n",
      "  if not np.isfinite(2.*np.sum(np.log(bg+s0*np.exp(-ri/re)))):\n",
      "/tmp/ipykernel_12026/2005705992.py:55: RuntimeWarning: invalid value encountered in log\n",
      "  if not np.isfinite(2.*np.sum(np.log(bg+s0*np.exp(-ri/re)))):\n",
      "/tmp/ipykernel_12026/2005705992.py:55: RuntimeWarning: invalid value encountered in log\n",
      "  if not np.isfinite(2.*np.sum(np.log(bg+s0*np.exp(-ri/re)))):\n",
      "/tmp/ipykernel_12026/2005705992.py:55: RuntimeWarning: invalid value encountered in log\n",
      "  if not np.isfinite(2.*np.sum(np.log(bg+s0*np.exp(-ri/re)))):\n",
      "/tmp/ipykernel_12026/2005705992.py:55: RuntimeWarning: invalid value encountered in log\n",
      "  if not np.isfinite(2.*np.sum(np.log(bg+s0*np.exp(-ri/re)))):\n",
      "/tmp/ipykernel_12026/2005705992.py:55: RuntimeWarning: invalid value encountered in log\n",
      "  if not np.isfinite(2.*np.sum(np.log(bg+s0*np.exp(-ri/re)))):\n"
     ]
    },
    {
     "name": "stdout",
     "output_type": "stream",
     "text": [
      "0.9917909747164693\n"
     ]
    },
    {
     "name": "stderr",
     "output_type": "stream",
     "text": [
      "/tmp/ipykernel_12026/2005705992.py:55: RuntimeWarning: invalid value encountered in log\n",
      "  if not np.isfinite(2.*np.sum(np.log(bg+s0*np.exp(-ri/re)))):\n",
      "/tmp/ipykernel_12026/2005705992.py:55: RuntimeWarning: invalid value encountered in log\n",
      "  if not np.isfinite(2.*np.sum(np.log(bg+s0*np.exp(-ri/re)))):\n",
      "/tmp/ipykernel_12026/2005705992.py:55: RuntimeWarning: invalid value encountered in log\n",
      "  if not np.isfinite(2.*np.sum(np.log(bg+s0*np.exp(-ri/re)))):\n",
      "/tmp/ipykernel_12026/2005705992.py:55: RuntimeWarning: invalid value encountered in log\n",
      "  if not np.isfinite(2.*np.sum(np.log(bg+s0*np.exp(-ri/re)))):\n",
      "/tmp/ipykernel_12026/2005705992.py:55: RuntimeWarning: invalid value encountered in log\n",
      "  if not np.isfinite(2.*np.sum(np.log(bg+s0*np.exp(-ri/re)))):\n",
      "/tmp/ipykernel_12026/2005705992.py:55: RuntimeWarning: invalid value encountered in log\n",
      "  if not np.isfinite(2.*np.sum(np.log(bg+s0*np.exp(-ri/re)))):\n",
      "/tmp/ipykernel_12026/2005705992.py:55: RuntimeWarning: invalid value encountered in log\n",
      "  if not np.isfinite(2.*np.sum(np.log(bg+s0*np.exp(-ri/re)))):\n",
      "/tmp/ipykernel_12026/2005705992.py:55: RuntimeWarning: invalid value encountered in log\n",
      "  if not np.isfinite(2.*np.sum(np.log(bg+s0*np.exp(-ri/re)))):\n"
     ]
    },
    {
     "name": "stdout",
     "output_type": "stream",
     "text": [
      "1.1201972818438994\n"
     ]
    },
    {
     "name": "stderr",
     "output_type": "stream",
     "text": [
      "/tmp/ipykernel_12026/2005705992.py:55: RuntimeWarning: invalid value encountered in log\n",
      "  if not np.isfinite(2.*np.sum(np.log(bg+s0*np.exp(-ri/re)))):\n",
      "/tmp/ipykernel_12026/2005705992.py:55: RuntimeWarning: invalid value encountered in log\n",
      "  if not np.isfinite(2.*np.sum(np.log(bg+s0*np.exp(-ri/re)))):\n",
      "/tmp/ipykernel_12026/2005705992.py:55: RuntimeWarning: invalid value encountered in log\n",
      "  if not np.isfinite(2.*np.sum(np.log(bg+s0*np.exp(-ri/re)))):\n",
      "/tmp/ipykernel_12026/2005705992.py:55: RuntimeWarning: invalid value encountered in log\n",
      "  if not np.isfinite(2.*np.sum(np.log(bg+s0*np.exp(-ri/re)))):\n",
      "/tmp/ipykernel_12026/2005705992.py:55: RuntimeWarning: invalid value encountered in log\n",
      "  if not np.isfinite(2.*np.sum(np.log(bg+s0*np.exp(-ri/re)))):\n",
      "/tmp/ipykernel_12026/2005705992.py:55: RuntimeWarning: invalid value encountered in log\n",
      "  if not np.isfinite(2.*np.sum(np.log(bg+s0*np.exp(-ri/re)))):\n",
      "/tmp/ipykernel_12026/2005705992.py:55: RuntimeWarning: invalid value encountered in log\n",
      "  if not np.isfinite(2.*np.sum(np.log(bg+s0*np.exp(-ri/re)))):\n",
      "/tmp/ipykernel_12026/2005705992.py:55: RuntimeWarning: invalid value encountered in log\n",
      "  if not np.isfinite(2.*np.sum(np.log(bg+s0*np.exp(-ri/re)))):\n",
      "/home/adriano.pieres/.conda/envs/emcee/lib/python3.10/site-packages/emcee/moves/red_blue.py:99: RuntimeWarning: invalid value encountered in double_scalars\n",
      "  lnpdiff = f + nlp - state.log_prob[j]\n"
     ]
    },
    {
     "name": "stdout",
     "output_type": "stream",
     "text": [
      "1.0842587093004208\n"
     ]
    },
    {
     "name": "stderr",
     "output_type": "stream",
     "text": [
      "/tmp/ipykernel_12026/2005705992.py:55: RuntimeWarning: invalid value encountered in log\n",
      "  if not np.isfinite(2.*np.sum(np.log(bg+s0*np.exp(-ri/re)))):\n",
      "/tmp/ipykernel_12026/2005705992.py:55: RuntimeWarning: invalid value encountered in log\n",
      "  if not np.isfinite(2.*np.sum(np.log(bg+s0*np.exp(-ri/re)))):\n",
      "/tmp/ipykernel_12026/2005705992.py:55: RuntimeWarning: invalid value encountered in log\n",
      "  if not np.isfinite(2.*np.sum(np.log(bg+s0*np.exp(-ri/re)))):\n",
      "/tmp/ipykernel_12026/2005705992.py:55: RuntimeWarning: invalid value encountered in log\n",
      "  if not np.isfinite(2.*np.sum(np.log(bg+s0*np.exp(-ri/re)))):\n",
      "/tmp/ipykernel_12026/2005705992.py:55: RuntimeWarning: invalid value encountered in log\n",
      "  if not np.isfinite(2.*np.sum(np.log(bg+s0*np.exp(-ri/re)))):\n",
      "/tmp/ipykernel_12026/2005705992.py:55: RuntimeWarning: invalid value encountered in log\n",
      "  if not np.isfinite(2.*np.sum(np.log(bg+s0*np.exp(-ri/re)))):\n",
      "/tmp/ipykernel_12026/2005705992.py:55: RuntimeWarning: invalid value encountered in log\n",
      "  if not np.isfinite(2.*np.sum(np.log(bg+s0*np.exp(-ri/re)))):\n",
      "/tmp/ipykernel_12026/2005705992.py:55: RuntimeWarning: invalid value encountered in log\n",
      "  if not np.isfinite(2.*np.sum(np.log(bg+s0*np.exp(-ri/re)))):\n",
      "/home/adriano.pieres/.conda/envs/emcee/lib/python3.10/site-packages/emcee/moves/red_blue.py:99: RuntimeWarning: invalid value encountered in double_scalars\n",
      "  lnpdiff = f + nlp - state.log_prob[j]\n"
     ]
    },
    {
     "name": "stdout",
     "output_type": "stream",
     "text": [
      "1.048203787471198\n"
     ]
    },
    {
     "name": "stderr",
     "output_type": "stream",
     "text": [
      "/tmp/ipykernel_12026/2005705992.py:55: RuntimeWarning: invalid value encountered in log\n",
      "  if not np.isfinite(2.*np.sum(np.log(bg+s0*np.exp(-ri/re)))):\n",
      "/tmp/ipykernel_12026/2005705992.py:55: RuntimeWarning: invalid value encountered in log\n",
      "  if not np.isfinite(2.*np.sum(np.log(bg+s0*np.exp(-ri/re)))):\n"
     ]
    },
    {
     "name": "stdout",
     "output_type": "stream",
     "text": [
      "1.0181169540020094\n",
      "1.061836815755065\n",
      "1.0714461987030746\n"
     ]
    },
    {
     "name": "stderr",
     "output_type": "stream",
     "text": [
      "/tmp/ipykernel_12026/2005705992.py:55: RuntimeWarning: invalid value encountered in log\n",
      "  if not np.isfinite(2.*np.sum(np.log(bg+s0*np.exp(-ri/re)))):\n",
      "/tmp/ipykernel_12026/2005705992.py:55: RuntimeWarning: invalid value encountered in log\n",
      "  if not np.isfinite(2.*np.sum(np.log(bg+s0*np.exp(-ri/re)))):\n",
      "/tmp/ipykernel_12026/2005705992.py:55: RuntimeWarning: invalid value encountered in log\n",
      "  if not np.isfinite(2.*np.sum(np.log(bg+s0*np.exp(-ri/re)))):\n"
     ]
    },
    {
     "name": "stdout",
     "output_type": "stream",
     "text": [
      "1.154014084607344\n"
     ]
    },
    {
     "name": "stderr",
     "output_type": "stream",
     "text": [
      "/tmp/ipykernel_12026/2005705992.py:55: RuntimeWarning: invalid value encountered in log\n",
      "  if not np.isfinite(2.*np.sum(np.log(bg+s0*np.exp(-ri/re)))):\n",
      "/tmp/ipykernel_12026/2005705992.py:55: RuntimeWarning: invalid value encountered in log\n",
      "  if not np.isfinite(2.*np.sum(np.log(bg+s0*np.exp(-ri/re)))):\n",
      "/tmp/ipykernel_12026/2005705992.py:55: RuntimeWarning: invalid value encountered in log\n",
      "  if not np.isfinite(2.*np.sum(np.log(bg+s0*np.exp(-ri/re)))):\n",
      "/tmp/ipykernel_12026/2005705992.py:55: RuntimeWarning: invalid value encountered in log\n",
      "  if not np.isfinite(2.*np.sum(np.log(bg+s0*np.exp(-ri/re)))):\n",
      "/tmp/ipykernel_12026/2005705992.py:55: RuntimeWarning: invalid value encountered in log\n",
      "  if not np.isfinite(2.*np.sum(np.log(bg+s0*np.exp(-ri/re)))):\n",
      "/tmp/ipykernel_12026/2005705992.py:55: RuntimeWarning: invalid value encountered in log\n",
      "  if not np.isfinite(2.*np.sum(np.log(bg+s0*np.exp(-ri/re)))):\n",
      "/tmp/ipykernel_12026/2005705992.py:55: RuntimeWarning: invalid value encountered in log\n",
      "  if not np.isfinite(2.*np.sum(np.log(bg+s0*np.exp(-ri/re)))):\n",
      "/tmp/ipykernel_12026/2005705992.py:55: RuntimeWarning: invalid value encountered in log\n",
      "  if not np.isfinite(2.*np.sum(np.log(bg+s0*np.exp(-ri/re)))):\n"
     ]
    },
    {
     "name": "stdout",
     "output_type": "stream",
     "text": [
      "1.0272051805976175\n"
     ]
    },
    {
     "name": "stderr",
     "output_type": "stream",
     "text": [
      "/tmp/ipykernel_12026/2005705992.py:55: RuntimeWarning: invalid value encountered in log\n",
      "  if not np.isfinite(2.*np.sum(np.log(bg+s0*np.exp(-ri/re)))):\n",
      "/tmp/ipykernel_12026/2005705992.py:55: RuntimeWarning: invalid value encountered in log\n",
      "  if not np.isfinite(2.*np.sum(np.log(bg+s0*np.exp(-ri/re)))):\n",
      "/tmp/ipykernel_12026/2005705992.py:55: RuntimeWarning: invalid value encountered in log\n",
      "  if not np.isfinite(2.*np.sum(np.log(bg+s0*np.exp(-ri/re)))):\n",
      "/tmp/ipykernel_12026/2005705992.py:55: RuntimeWarning: invalid value encountered in log\n",
      "  if not np.isfinite(2.*np.sum(np.log(bg+s0*np.exp(-ri/re)))):\n",
      "/tmp/ipykernel_12026/2005705992.py:55: RuntimeWarning: invalid value encountered in log\n",
      "  if not np.isfinite(2.*np.sum(np.log(bg+s0*np.exp(-ri/re)))):\n",
      "/tmp/ipykernel_12026/2005705992.py:55: RuntimeWarning: invalid value encountered in log\n",
      "  if not np.isfinite(2.*np.sum(np.log(bg+s0*np.exp(-ri/re)))):\n",
      "/tmp/ipykernel_12026/2005705992.py:55: RuntimeWarning: invalid value encountered in log\n",
      "  if not np.isfinite(2.*np.sum(np.log(bg+s0*np.exp(-ri/re)))):\n",
      "/tmp/ipykernel_12026/2005705992.py:55: RuntimeWarning: invalid value encountered in log\n",
      "  if not np.isfinite(2.*np.sum(np.log(bg+s0*np.exp(-ri/re)))):\n"
     ]
    },
    {
     "name": "stdout",
     "output_type": "stream",
     "text": [
      "1.077030491483496\n",
      "1.074649326352411\n"
     ]
    },
    {
     "name": "stderr",
     "output_type": "stream",
     "text": [
      "/tmp/ipykernel_12026/2005705992.py:55: RuntimeWarning: invalid value encountered in log\n",
      "  if not np.isfinite(2.*np.sum(np.log(bg+s0*np.exp(-ri/re)))):\n",
      "/tmp/ipykernel_12026/2005705992.py:55: RuntimeWarning: invalid value encountered in log\n",
      "  if not np.isfinite(2.*np.sum(np.log(bg+s0*np.exp(-ri/re)))):\n",
      "/tmp/ipykernel_12026/2005705992.py:55: RuntimeWarning: invalid value encountered in log\n",
      "  if not np.isfinite(2.*np.sum(np.log(bg+s0*np.exp(-ri/re)))):\n",
      "/tmp/ipykernel_12026/2005705992.py:55: RuntimeWarning: invalid value encountered in log\n",
      "  if not np.isfinite(2.*np.sum(np.log(bg+s0*np.exp(-ri/re)))):\n",
      "/tmp/ipykernel_12026/2005705992.py:55: RuntimeWarning: invalid value encountered in log\n",
      "  if not np.isfinite(2.*np.sum(np.log(bg+s0*np.exp(-ri/re)))):\n",
      "/tmp/ipykernel_12026/2005705992.py:55: RuntimeWarning: invalid value encountered in log\n",
      "  if not np.isfinite(2.*np.sum(np.log(bg+s0*np.exp(-ri/re)))):\n",
      "/tmp/ipykernel_12026/2005705992.py:55: RuntimeWarning: invalid value encountered in log\n",
      "  if not np.isfinite(2.*np.sum(np.log(bg+s0*np.exp(-ri/re)))):\n",
      "/tmp/ipykernel_12026/2005705992.py:55: RuntimeWarning: invalid value encountered in log\n",
      "  if not np.isfinite(2.*np.sum(np.log(bg+s0*np.exp(-ri/re)))):\n"
     ]
    },
    {
     "name": "stdout",
     "output_type": "stream",
     "text": [
      "1.0468366845656505\n",
      "1.016593556831113\n",
      "1.0717561012215788\n"
     ]
    },
    {
     "name": "stderr",
     "output_type": "stream",
     "text": [
      "/tmp/ipykernel_12026/2005705992.py:55: RuntimeWarning: invalid value encountered in log\n",
      "  if not np.isfinite(2.*np.sum(np.log(bg+s0*np.exp(-ri/re)))):\n",
      "/tmp/ipykernel_12026/2005705992.py:55: RuntimeWarning: invalid value encountered in log\n",
      "  if not np.isfinite(2.*np.sum(np.log(bg+s0*np.exp(-ri/re)))):\n",
      "/tmp/ipykernel_12026/2005705992.py:55: RuntimeWarning: invalid value encountered in log\n",
      "  if not np.isfinite(2.*np.sum(np.log(bg+s0*np.exp(-ri/re)))):\n",
      "/tmp/ipykernel_12026/2005705992.py:55: RuntimeWarning: invalid value encountered in log\n",
      "  if not np.isfinite(2.*np.sum(np.log(bg+s0*np.exp(-ri/re)))):\n",
      "/tmp/ipykernel_12026/2005705992.py:55: RuntimeWarning: invalid value encountered in log\n",
      "  if not np.isfinite(2.*np.sum(np.log(bg+s0*np.exp(-ri/re)))):\n",
      "/tmp/ipykernel_12026/2005705992.py:55: RuntimeWarning: invalid value encountered in log\n",
      "  if not np.isfinite(2.*np.sum(np.log(bg+s0*np.exp(-ri/re)))):\n",
      "/tmp/ipykernel_12026/2005705992.py:55: RuntimeWarning: invalid value encountered in log\n",
      "  if not np.isfinite(2.*np.sum(np.log(bg+s0*np.exp(-ri/re)))):\n",
      "/tmp/ipykernel_12026/2005705992.py:55: RuntimeWarning: invalid value encountered in log\n",
      "  if not np.isfinite(2.*np.sum(np.log(bg+s0*np.exp(-ri/re)))):\n"
     ]
    },
    {
     "name": "stdout",
     "output_type": "stream",
     "text": [
      "0.9884207350832869\n",
      "1.0483203903403557\n"
     ]
    },
    {
     "name": "stderr",
     "output_type": "stream",
     "text": [
      "/tmp/ipykernel_12026/2005705992.py:55: RuntimeWarning: invalid value encountered in log\n",
      "  if not np.isfinite(2.*np.sum(np.log(bg+s0*np.exp(-ri/re)))):\n",
      "/tmp/ipykernel_12026/2005705992.py:55: RuntimeWarning: invalid value encountered in log\n",
      "  if not np.isfinite(2.*np.sum(np.log(bg+s0*np.exp(-ri/re)))):\n",
      "/tmp/ipykernel_12026/2005705992.py:55: RuntimeWarning: invalid value encountered in log\n",
      "  if not np.isfinite(2.*np.sum(np.log(bg+s0*np.exp(-ri/re)))):\n"
     ]
    },
    {
     "name": "stdout",
     "output_type": "stream",
     "text": [
      "0.9969269945157659\n",
      "0.9992437787379478\n",
      "0.9876310252121017\n"
     ]
    },
    {
     "name": "stderr",
     "output_type": "stream",
     "text": [
      "/tmp/ipykernel_12026/2005705992.py:55: RuntimeWarning: invalid value encountered in log\n",
      "  if not np.isfinite(2.*np.sum(np.log(bg+s0*np.exp(-ri/re)))):\n",
      "/tmp/ipykernel_12026/2005705992.py:55: RuntimeWarning: invalid value encountered in log\n",
      "  if not np.isfinite(2.*np.sum(np.log(bg+s0*np.exp(-ri/re)))):\n",
      "/tmp/ipykernel_12026/2005705992.py:55: RuntimeWarning: invalid value encountered in log\n",
      "  if not np.isfinite(2.*np.sum(np.log(bg+s0*np.exp(-ri/re)))):\n",
      "/tmp/ipykernel_12026/2005705992.py:55: RuntimeWarning: invalid value encountered in log\n",
      "  if not np.isfinite(2.*np.sum(np.log(bg+s0*np.exp(-ri/re)))):\n",
      "/tmp/ipykernel_12026/2005705992.py:55: RuntimeWarning: invalid value encountered in log\n",
      "  if not np.isfinite(2.*np.sum(np.log(bg+s0*np.exp(-ri/re)))):\n",
      "/tmp/ipykernel_12026/2005705992.py:55: RuntimeWarning: invalid value encountered in log\n",
      "  if not np.isfinite(2.*np.sum(np.log(bg+s0*np.exp(-ri/re)))):\n",
      "/tmp/ipykernel_12026/2005705992.py:55: RuntimeWarning: invalid value encountered in log\n",
      "  if not np.isfinite(2.*np.sum(np.log(bg+s0*np.exp(-ri/re)))):\n"
     ]
    },
    {
     "name": "stdout",
     "output_type": "stream",
     "text": [
      "1.0319804112925444\n"
     ]
    },
    {
     "name": "stderr",
     "output_type": "stream",
     "text": [
      "/tmp/ipykernel_12026/2005705992.py:55: RuntimeWarning: invalid value encountered in log\n",
      "  if not np.isfinite(2.*np.sum(np.log(bg+s0*np.exp(-ri/re)))):\n",
      "/tmp/ipykernel_12026/2005705992.py:55: RuntimeWarning: invalid value encountered in log\n",
      "  if not np.isfinite(2.*np.sum(np.log(bg+s0*np.exp(-ri/re)))):\n",
      "/tmp/ipykernel_12026/2005705992.py:55: RuntimeWarning: invalid value encountered in log\n",
      "  if not np.isfinite(2.*np.sum(np.log(bg+s0*np.exp(-ri/re)))):\n",
      "/tmp/ipykernel_12026/2005705992.py:55: RuntimeWarning: invalid value encountered in log\n",
      "  if not np.isfinite(2.*np.sum(np.log(bg+s0*np.exp(-ri/re)))):\n",
      "/tmp/ipykernel_12026/2005705992.py:55: RuntimeWarning: invalid value encountered in log\n",
      "  if not np.isfinite(2.*np.sum(np.log(bg+s0*np.exp(-ri/re)))):\n",
      "/tmp/ipykernel_12026/2005705992.py:55: RuntimeWarning: invalid value encountered in log\n",
      "  if not np.isfinite(2.*np.sum(np.log(bg+s0*np.exp(-ri/re)))):\n",
      "/tmp/ipykernel_12026/2005705992.py:55: RuntimeWarning: invalid value encountered in log\n",
      "  if not np.isfinite(2.*np.sum(np.log(bg+s0*np.exp(-ri/re)))):\n",
      "/tmp/ipykernel_12026/2005705992.py:55: RuntimeWarning: invalid value encountered in log\n",
      "  if not np.isfinite(2.*np.sum(np.log(bg+s0*np.exp(-ri/re)))):\n"
     ]
    }
   ],
   "source": [
    "def lnprior(theta, thmin, thmax):\n",
    "    \"\"\"Calculates if pars are within limits.\n",
    "\n",
    "    Parameters\n",
    "    ----------\n",
    "    theta : list\n",
    "        Set of parameters.\n",
    "\n",
    "    Returns\n",
    "    -------\n",
    "    float\n",
    "        Zero or -infinity\n",
    "    \"\"\"\n",
    "    rc, rt, ell, th, bg, xc, yc = theta\n",
    "    if 0.01 < rc < 1.0 and 0.01 < rt < 100.0 and 0.0 < ell < 0.6 and thmin < th < thmax and 0.0 < bg < 10. and -3. < xc < 3. and -3. < yc < 3.:\n",
    "        return 0\n",
    "    return -np.inf\n",
    "\n",
    "\n",
    "def lnlike(theta, RA, DEC):\n",
    "    \"\"\"Calculates likelihood of a specific set of parameters.\n",
    "\n",
    "    Parameters\n",
    "    ----------\n",
    "    theta : list\n",
    "        Set of parameters.\n",
    "    RA : list\n",
    "        RA of stars, in degrees.\n",
    "    DEC : list\n",
    "        DEC of stars, in degrees.\n",
    "\n",
    "    Returns\n",
    "    -------\n",
    "    float\n",
    "        2*ln likelihood\n",
    "    \"\"\"\n",
    "\n",
    "    global R0, R1\n",
    "\n",
    "    rc, rt, ell, th, bg, xc, yc = theta\n",
    "    dX = (RA-(ra0+xc/60.))*np.cos(np.radians(dec0))\n",
    "    dY = (DEC-(dec0+yc/60.))\n",
    "    ri = 60.*np.sqrt(((dX*np.cos(np.radians(100*th))-dY*np.sin(np.radians(100*th)))/(1.-ell))\n",
    "                     ** 2.+(dX*np.sin(np.radians(100*th))+dY*np.cos(np.radians(100*th)))**2.)\n",
    "    # See references to calculate amount of stars out to tidal radius.\n",
    "    # s0 = (len(RA)-bg*3600.)/((1-ell)*2.*np.pi*re**2)\n",
    "\n",
    "    if not np.isfinite(2.*np.sum(np.log(bg+s0*np.exp(-ri/re)))):\n",
    "        return -np.inf\n",
    "    return 2.*np.sum(np.log(bg+s0*np.exp(-ri/re)))\n",
    "\n",
    "\n",
    "def lnprob(theta, RA, DEC, thmin, thmax):\n",
    "    \"\"\"Accounts two previous functions.\n",
    "\n",
    "    Parameters\n",
    "    ----------\n",
    "    theta : list\n",
    "        set of parameters.\n",
    "    RA : list\n",
    "        RA of stars in degrees.\n",
    "    DEC : list\n",
    "        DEC of stars in degrees.\n",
    "\n",
    "    Returns\n",
    "    -------\n",
    "    float\n",
    "        Likelihood. If within the limits it is a number.\n",
    "    \"\"\"\n",
    "    lp = lnprior(theta, thmin, thmax)\n",
    "    if not np.isfinite(lp):\n",
    "        return -np.inf\n",
    "    return lp + lnlike(theta, RA, DEC)\n",
    "\n",
    "\n",
    "# Some definitions:\n",
    "R0 = 0.5\n",
    "R1 = 0.25\n",
    "# ra0, dec0, reinf, resup, thmin, thmax = 67.3156, -23.8368, 0.1, 10., 0.0, 180.\n",
    "HPX_, ra0_, dec0_, re_kick_, ell_kick_, pa_kick_, dist = np.loadtxt(\n",
    "    'star_clusters_simulated.dat', usecols=(0, 6, 7, 8, 9, 10, 12), unpack=True)\n",
    "\n",
    "# Converting exponential radius from parsecs to arcmin\n",
    "re_kick = 60. * (180. / np.pi) * np.arctan(re_kick_ / dist)\n",
    "\n",
    "# Reading the catalog of stars\n",
    "hdu = fits.open('des_mockcat_for_detection.fits', memmap=True)\n",
    "RA_ = hdu[1].data.field('ra')\n",
    "DEC_ = hdu[1].data.field('dec')\n",
    "#MAGG = hdu[1].data.field('mag_g_with_err')\n",
    "#MAGGERR = hdu[1].data.field('magerr_g')\n",
    "#MAGR = hdu[1].data.field('mag_g_with_err')\n",
    "#MAGRERR = hdu[1].data.field('magerr_r')\n",
    "hdu.close()\n",
    "\n",
    "fff = open('results.dat', 'w')\n",
    "\n",
    "print('# HPX re(0,+,-) ell(0,+,-) pa(0,+,-) robg(0,+,-) shift_ra(0,+,-) shift dec(0,+,-)', file=fff)\n",
    "for i in range(len(ra0_)):\n",
    "    # print('Pars (ideal):', HPX_[i], re_kick[i], ell_kick_[i], pa_kick_[i], '----', '0.00', '0.00')\n",
    "    reinf = 0.5 * re_kick[i]\n",
    "    resup = 1.5 * re_kick[i]\n",
    "    thmin = (pa_kick_[i] - 45.) / 100\n",
    "    thmax = (pa_kick_[i] + 45.) / 100\n",
    "    \n",
    "    ra0 = ra0_[i]\n",
    "    dec0 = dec0_[i]\n",
    "\n",
    "    cutout_size_RA = R0 / np.cos(np.deg2rad(dec0))\n",
    "\n",
    "    cond = (RA_ > ra0 - cutout_size_RA) & (RA_ < ra0 +\n",
    "                                           cutout_size_RA) & (DEC_ > dec0 - R0) & (DEC_ < dec0 + R0)\n",
    "    RA = RA_[cond]\n",
    "    DEC = DEC_[cond]\n",
    "    re_ml = (reinf + resup)/2.\n",
    "    ell_ml = 0.05\n",
    "    th_ml = (thmin + thmax) / 2.\n",
    "\n",
    "    R = 60.*np.sqrt(((np.cos(np.radians(dec0))*(ra0-RA))**2.)+(DEC-dec0)**2) # in arcmin\n",
    "\n",
    "    idbg = (R < 60.*R0) & (R > 60.*R1)\n",
    "    area_annulus_arcmin = 3600. * np.pi*(R0**2 - R1**2) * np.cos(np.radians(dec0))\n",
    "    robg = len(RA[idbg]) / area_annulus_arcmin  # stars/arcmin^2\n",
    "    N_star = (len(RA[R < 60.*R0])-(robg*3600.*np.pi * R0 ** 2))\n",
    "    s_ml = N_star/(2.*np.pi*re_ml**2)\n",
    "    xc_ml = 0.0\n",
    "    yc_ml = 0.0\n",
    "    result = re_ml, ell_ml, th_ml, 0.5, xc_ml, yc_ml\n",
    "\n",
    "    ndim, nwalkers = 6, 600  # 300\n",
    "    pos = [result + 1e-4*np.random.randn(ndim) for j in range(nwalkers)]\n",
    "    with Pool() as pool:\n",
    "        sampler = emcee.EnsembleSampler(\n",
    "            nwalkers, ndim, lnprob, args=(RA, DEC, thmin, thmax), pool=pool)\n",
    "        # sampler = emcee.EnsembleSampler(nwalkers, ndim, lnprob, args=(RA, DEC))\n",
    "        sampler.run_mcmc(pos, 300)  # 200\n",
    "    samples = sampler.chain[:, 80:, :].reshape((-1, ndim))\n",
    "\n",
    "    samples[:, 2] = 100.*(samples[:, 2])\n",
    "    re_mcmc, ell_mcmc, th_mcmc, robg_mcmc, xc_mcmc, yc_mcmc = map(lambda v: (\n",
    "        v[1], v[2]-v[1], v[1]-v[0]), zip(*np.percentile(samples, [16, 50, 84], axis=0)))\n",
    "    \n",
    "    N_star_0 = (len(RA)-(robg_mcmc[0] * 3600.))\n",
    "    N_star_m = N_star_0 - (len(RA)-((robg_mcmc[0] + robg_mcmc[1])* 3600.))\n",
    "    N_star_p = (len(RA)-((robg_mcmc[0] - robg_mcmc[2])* 3600.)) - N_star_0\n",
    "    print(int(HPX_[i]), re_mcmc[0], re_mcmc[1], re_mcmc[2], ell_mcmc[0], ell_mcmc[1], ell_mcmc[2],\n",
    "          th_mcmc[0], th_mcmc[1], th_mcmc[2], robg_mcmc[0], robg_mcmc[1], robg_mcmc[2],\n",
    "          xc_mcmc[0], xc_mcmc[1], xc_mcmc[2], yc_mcmc[0], yc_mcmc[1], yc_mcmc[2], N_star_0, N_star_p, N_star_m, file=fff)\n",
    "    \n",
    "    # Plotting best-fitting pars\n",
    "    fig = corner.corner(samples, labels=[\"$re$\", \"$ell$\", \"$th$\", r\"$\\rho_{bg}$\", r\"$\\Delta\\alpha$\", r\"$\\Delta\\delta$\"], truths=[\n",
    "                        re_mcmc[0], ell_mcmc[0], th_mcmc[0], robg_mcmc[0], xc_mcmc[0], yc_mcmc[0]], quantiles=[0.16, 0.5, 0.84], show_titles=True, plot_contours=True)\n",
    "    plt.savefig(str(int(HPX_[i])) + '_plus.png')\n",
    "    plt.close()\n",
    "    '''\n",
    "    L = np.zeros(len(RA))\n",
    "    dX = (RA-(ra0+xc_mcmc[0]/60.))*np.cos(np.radians(dec0))\n",
    "    dY = (DEC-(dec0+yc_mcmc[0]/60.))\n",
    "    ri = 60.*np.sqrt(((dX*np.cos(np.radians(100*th_mcmc[0]))-dY*np.sin(np.radians(100*th_mcmc[0])))/(\n",
    "        1.-ell_mcmc[0]))**2.+(dX*np.sin(np.radians(100*th_mcmc[0]))+dY*np.cos(np.radians(100*th_mcmc[0])))**2.)\n",
    "    L = (np.exp(-ri/re_mcmc[0]))\n",
    "    '''\n",
    "    # Saving chains\n",
    "    fig1, axes = plt.subplots(6, figsize=(10, 7), sharex=True)\n",
    "    samples = sampler.get_chain()\n",
    "    labels = [\"rexp\", \"ell\", \"theta\", \"rho_bg\", \"Ddelta\", \"Dalpha\"]\n",
    "    for j in range(ndim):\n",
    "        ax = axes[j]\n",
    "        ax.plot(samples[:, :, j], \"k\", alpha=0.3)\n",
    "        ax.set_xlim(0, len(samples))\n",
    "        ax.set_ylabel(labels[j])\n",
    "        ax.yaxis.set_label_coords(-0.1, 0.5)\n",
    "    axes[-1].set_xlabel(\"step number\")\n",
    "    plt.savefig(str(int(HPX_[i])) + '_chains.png')\n",
    "    plt.close()\n",
    "fff.close()\n",
    "#a = open('J0429_stars_list_profile.dat','w')\n",
    "# for j in range(len(RA)):\n",
    "#    if (L[j]<0.):\n",
    "#        L[j]=0.\n",
    "#    print >> a, RA[j], DEC[j], MAGG[j], MAGR[j], ERRG[j], ERRR[j], SM[j], L[j]\n",
    "# a.close"
   ]
  },
  {
   "cell_type": "code",
   "execution_count": null,
   "id": "bc4346c5-a403-4aae-a257-d7fea1483f3f",
   "metadata": {},
   "outputs": [],
   "source": [
    "HPX, re_bf, re_bf_p, re_bf_m, ell_bf, ell_bf_p, ell_bf_m, th_bf, th_bf_p, th_bf_m, \\\n",
    "robg_bf, robg_bf_p, robg_bf_m, xc_bf, xc_bf_p, xc_bf_m, yc_bf, yc_bf_p, yc_bf_m, nstar_bf, nstar_bf_p, nstar_bf_m = \\\n",
    "np.loadtxt('results.dat', unpack=True)\n",
    "# Truth table : HPX_, ra0_, dec0_, re_kick_, ell_kick_, pa_kick_, dist\n",
    "HPX0, nstar0, ra0, dec0, re0, ell0, th0, dist0 = np.loadtxt(\n",
    "    'star_clusters_simulated.dat', usecols=(0, 1, 6, 7, 8, 9, 10, 12), unpack=True)\n",
    "\n",
    "re0_arcmin = 60. * np.rad2deg(np.arctan(re0 / dist0))\n"
   ]
  },
  {
   "cell_type": "code",
   "execution_count": null,
   "id": "c9f8aa80-0352-47c0-bb82-80ca783b6fd8",
   "metadata": {},
   "outputs": [],
   "source": [
    "def identity(min_, max_):\n",
    "    return np.linspace(min_, max_, 10)\n",
    "\n",
    "fig, ax = plt.subplots(2, 2, figsize=(18, 18))\n",
    "\n",
    "ax[0,0].plot(identity(np.min(re0_arcmin), np.max(re0_arcmin)), identity(np.min(re0_arcmin), np.max(re0_arcmin)), lw=1., color='k', ls=':')\n",
    "ax[0,1].plot(identity(np.min(ell0), np.max(ell0)), identity(np.min(ell0), np.max(ell0)), lw=1., color='k', ls=':')\n",
    "ax[1,0].plot(identity(-50., 180.), identity(-50., 180.), lw=1., color='k', ls=':')\n",
    "ax[1,1].plot(identity(290., 500.), identity(290., 500.), lw=1., color='k', ls=':')\n",
    "\n",
    "ax[0,0].errorbar(re0_arcmin, re_bf, np.array([re_bf_m, re_bf_p]), color='b', fmt='^', label=r'$r_e$', capsize=5)\n",
    "ax[0,1].errorbar(ell0, ell_bf, np.array([ell_bf_m, ell_bf_p]), color='r', fmt='^', label=r'$ell$', capsize=5)\n",
    "ax[1,0].errorbar(th0, th_bf, np.array([th_bf_m, th_bf_p]), color='b', fmt='^', label=r'$\\theta$', capsize=5)\n",
    "ax[1,1].errorbar(nstar0, nstar_bf, np.array([nstar_bf_m, nstar_bf_p]), color='b', fmt='^', label=r'$N\\ star$', capsize=5)\n",
    "\n",
    "ax[0,0].set_xlabel(r'$true\\ r_e\\ (arcmin)$')\n",
    "ax[0,1].set_xlabel(r'$true\\ ellipticity$')\n",
    "ax[1,0].set_xlabel(r'$true\\ position\\ angle\\ (deg)$')\n",
    "ax[1,1].set_xlabel(r'$True\\ star\\ counts$')\n",
    "\n",
    "ax[0,0].set_ylabel(r'$best-fitting\\ r_e\\ (arcmin)$')\n",
    "ax[0,1].set_ylabel(r'$best-fitting\\ ellipticity$')\n",
    "ax[1,0].set_ylabel(r'$best-fitting\\ position\\ angle\\ (deg)$')\n",
    "ax[1,1].set_ylabel(r'$best-fitting\\ star\\ counts$')\n",
    "\n",
    "ax[0,0].set_title(r'$Exponential\\ radius\\ (arcmin)$')\n",
    "ax[0,1].set_title(r'$Ellipticity\\ \\epsilon$')\n",
    "ax[1,0].set_title(r'$Position\\ angle\\ (deg)$')\n",
    "ax[1,1].set_title(r'$Cluster\\ stars$')\n",
    "\n",
    "plt.show()"
   ]
  },
  {
   "cell_type": "code",
   "execution_count": null,
   "id": "161681c5-a307-4150-8008-5be490710761",
   "metadata": {},
   "outputs": [],
   "source": [
    "fig, ax = plt.subplots(1, 1, figsize=(10, 10))\n",
    "\n",
    "ax.grid()\n",
    "ax.errorbar(xc_bf, yc_bf, xerr=np.array([xc_bf_m, xc_bf_p]), yerr=np.array([yc_bf_m, yc_bf_p]), color='b', lw=1, fmt='b^', capsize=20)\n",
    "ax.set_title('Position in RA and DEC')\n",
    "ax.set_xlabel(r'$\\Delta\\ RA$\\ (arcmin) ')\n",
    "ax.set_ylabel(r'$\\Delta\\ DEC$\\ (arcmin) ')\n",
    "plt.show()"
   ]
  },
  {
   "cell_type": "markdown",
   "id": "87464666-08e4-4856-8875-ed527e3c2e31",
   "metadata": {},
   "source": [
    "Plotting each fit trying to see a bias between exponential radius and ellipticity/positional angle."
   ]
  },
  {
   "cell_type": "code",
   "execution_count": null,
   "id": "33badb66-45c8-48cc-ba87-dcf9591132db",
   "metadata": {},
   "outputs": [],
   "source": [
    "for i, j in enumerate(re_bf):\n",
    "\n",
    "    fig, ax = plt.subplots(1, 3, figsize=(18, 6))\n",
    "\n",
    "    ax[0].plot(identity(np.min(re0_arcmin), np.max(re0_arcmin)), identity(np.min(re0_arcmin), np.max(re0_arcmin)), lw=1., color='k', ls=':')\n",
    "    ax[1].plot(identity(np.min(ell0), np.max(ell0)), identity(np.min(ell0), np.max(ell0)), lw=1., color='k', ls=':')\n",
    "    ax[2].plot(identity(-50., 90.), identity(-50., 90.), lw=1., color='k', ls=':')\n",
    "\n",
    "    ax[0].errorbar(re0_arcmin[i], re_bf[i], [[re_bf_m[i]], [re_bf_p[i]]], color='b', fmt='^', label=r'$r_e$', capsize=5)\n",
    "    ax[1].errorbar(ell0[i], ell_bf[i], [[ell_bf_m[i]], [ell_bf_p[i]]], color='r', fmt='^', label=r'$ell$', capsize=5)\n",
    "    ax[2].errorbar(th0[i], th_bf[i], [[th_bf_m[i]], [th_bf_p[i]]], color='b', fmt='^', label=r'$\\theta$', capsize=5)\n",
    "\n",
    "    ax[0].set_xlabel(r'$true\\ r_e\\ (arcmin)$')\n",
    "    ax[1].set_xlabel(r'$true\\ ellipticity$')\n",
    "    ax[2].set_xlabel(r'$true\\ position\\ angle\\ (deg)$')\n",
    "\n",
    "    ax[0].set_ylabel(r'$best-fitting\\ r_e\\ (arcmin)$')\n",
    "    ax[1].set_ylabel(r'$best-fitting\\ ellipticity$')\n",
    "    ax[2].set_ylabel(r'$best-fitting\\ position\\ angle\\ (deg)$')\n",
    "\n",
    "    ax[0].set_title(r'$Exponential\\ radius\\ (arcmin)$')\n",
    "    ax[1].set_title(r'$Ellipticity\\ \\epsilon$')\n",
    "    ax[2].set_title(r'$Position\\ angle\\ (deg)$')\n",
    "\n",
    "    plt.show()"
   ]
  },
  {
   "cell_type": "code",
   "execution_count": null,
   "id": "4f9dbbfc-2706-4926-8f71-845069f6d167",
   "metadata": {},
   "outputs": [],
   "source": []
  }
 ],
 "metadata": {
  "kernelspec": {
   "display_name": "emcee",
   "language": "python",
   "name": "emcee"
  },
  "language_info": {
   "codemirror_mode": {
    "name": "ipython",
    "version": 3
   },
   "file_extension": ".py",
   "mimetype": "text/x-python",
   "name": "python",
   "nbconvert_exporter": "python",
   "pygments_lexer": "ipython3",
   "version": "3.10.4"
  }
 },
 "nbformat": 4,
 "nbformat_minor": 5
}
