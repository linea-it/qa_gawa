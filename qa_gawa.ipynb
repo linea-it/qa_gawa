{
 "cells": [
  {
   "cell_type": "code",
   "execution_count": null,
   "id": "fcf6daf0",
   "metadata": {
    "slideshow": {
     "slide_type": "slide"
    }
   },
   "outputs": [],
   "source": [
    "import matplotlib.pyplot as plt\n",
    "import numpy as np\n",
    "import warnings, json, astropy, os, tabulate\n",
    "import astropy.io.fits as fits\n",
    "from astropy.io.fits import getdata\n",
    "import astropy.units as u\n",
    "from astropy.coordinates import SkyCoord\n",
    "warnings.filterwarnings(\"ignore\")\n",
    "from qa_gawa import plot_pure, plot_comp, full_completeness_distances\n",
    "import matplotlib \n",
    "font = {'family' : 'normal',\n",
    "        'weight' : 'normal',\n",
    "        'size'   : 12}\n",
    "\n",
    "matplotlib.rc('font', **font)"
   ]
  },
  {
   "cell_type": "markdown",
   "id": "0feae578",
   "metadata": {},
   "source": [
    "## Introduction\n",
    "\n",
    "This jupyter notebook is intended to show plots about the ability of Gawa tto recover simulated stellar systems. <br>\n",
    "The two main inputs are the list of clusters simulated and the list of detected clusters. <br>\n",
    "\n",
    "The first task is to match the list of simulated clusters to the list of detected clusters.\n",
    "\n",
    "Run this jupyter notebook in the LIneA env with the following command:\n",
    "<br>\n",
    "`jupyter nbconvert --execute --to html --EmbedImagesPreprocessor.embed_images=True qa_gawa.ipynb`\n",
    "<br>\n",
    "and after the command has finished, run the following cell:\n",
    "<br>\n",
    " cp qa_gawa.html ~/public_html/gawa_processes/00010/detections/qa\n",
    "<br>\n",
    "where 00010 is the process number.\n",
    "\n",
    "Reading the configuration file and creating a folder for the results:"
   ]
  },
  {
   "cell_type": "code",
   "execution_count": null,
   "id": "2f8570ad",
   "metadata": {},
   "outputs": [],
   "source": [
    "confg = \"qa_gawa.json\"\n",
    "\n",
    "with open(confg) as fstream:\n",
    "    param = json.load(fstream)\n",
    "\n",
    "globals().update(param)\n",
    "\n",
    "os.system(\"mkdir -p \" + input_detection_path + \"/qa\")\n",
    "\n",
    "config_gawa = input_detection_path + \"/gawa.cfg\"\n",
    "\n",
    "with open(config_gawa) as fstream:\n",
    "    param2 = json.load(fstream)\n",
    "mask_file = param2['isochrone_masks'][param2['survey']]['model_file']"
   ]
  },
  {
   "cell_type": "markdown",
   "id": "4c9bc7ca-78b1-4b0c-90df-5ab630d30525",
   "metadata": {},
   "source": [
    "Cell below shows the list of params of the detection:"
   ]
  },
  {
   "cell_type": "code",
   "execution_count": null,
   "id": "280eea57-9d2d-4b39-9e0f-2aee1add19e6",
   "metadata": {},
   "outputs": [],
   "source": [
    "def recursive_print_dict( d, indent = 0 ):\n",
    "    for k, v in d.items():\n",
    "        if isinstance(v, dict):\n",
    "            print(\"    \" * indent, f\"{k}:\")\n",
    "            recursive_print_dict(v, indent+1)\n",
    "        else:\n",
    "            print(\"    \" * indent, f\"{k}:{v}\")\n",
    "\n",
    "recursive_print_dict(param2)"
   ]
  },
  {
   "cell_type": "markdown",
   "id": "2eff3e70-ddc0-4f69-9c7e-cefb4fbed9db",
   "metadata": {},
   "source": [
    "Print all the masks file:"
   ]
  },
  {
   "cell_type": "markdown",
   "id": "4b5f8328-12b6-4a1e-8461-5eef88c34e81",
   "metadata": {},
   "source": [
    "## Matching detections and simulations\n",
    "### Reading data\n",
    "Reading data from detections and simulations:"
   ]
  },
  {
   "cell_type": "code",
   "execution_count": null,
   "id": "6ed3a3df",
   "metadata": {},
   "outputs": [],
   "source": [
    "det_file = input_detection_path + '/clusters.fits'\n",
    "data_det = getdata(det_file)\n",
    "ra_det = data_det[\"ra\"]\n",
    "dec_det = data_det[\"dec\"]\n",
    "\n",
    "slices_file = input_detection_path + '/dslices.fits'\n",
    "data_sl = getdata(slices_file)\n",
    "d_slices_pc = data_sl[\"dist_pc\"]\n",
    "mM_slices = 5 * np.log10(d_slices_pc) - 5.\n",
    "\n",
    "bin_size_mM = mM_slices[1] - mM_slices[0]\n",
    "bins_mM = np.linspace(mM_slices[0] - bin_size_mM / 2, mM_slices[-1] + bin_size_mM / 2, len(mM_slices) + 1, endpoint=True)\n",
    "\n",
    "f_sim = open(input_simulation_path + '/star_clusters_simulated.dat', 'r')\n",
    "data_sim = f_sim.readlines()[1:]\n",
    "\n",
    "file_sim = input_simulation_path + '/star_clusters_simulated.dat'\n",
    "ra_sim, dec_sim, SNR_sim_all = np.loadtxt(file_sim, usecols=(9, 10, 6), unpack=True)"
   ]
  },
  {
   "cell_type": "code",
   "execution_count": null,
   "id": "2ac26074-6e8d-4400-a88c-b7a67fe40627",
   "metadata": {},
   "outputs": [],
   "source": [
    "gr, g = np.loadtxt(mask_file, usecols=(0, 1), unpack=True)\n",
    "\n",
    "fig, (ax1) = plt.subplots(1, 1, figsize=(10,6))\n",
    "for i in range(len(mM_slices)):\n",
    "    ax1.plot(gr, g + mM_slices[i], label='m-M={:.2f}'.format(mM_slices[i]))\n",
    "ax1.set_xlim(param2['isochrone_masks'][param2['survey']]['mask_color_min'], param2['isochrone_masks'][param2['survey']]['mask_color_max'])\n",
    "ax1.set_ylim(param2['isochrone_masks'][param2['survey']]['mask_mag_max'], param2['isochrone_masks'][param2['survey']]['mask_mag_min'])\n",
    "ax1.set_xlabel(r'$g_0-r_0$')\n",
    "ax1.set_ylabel(r'$g_0$')\n",
    "ax1.set_title('Masks applied to detection')\n",
    "ax1.legend()\n",
    "plt.show()"
   ]
  },
  {
   "cell_type": "markdown",
   "id": "56df7777-fe79-49b9-9814-586dbdc1f076",
   "metadata": {},
   "source": [
    "### Matching with astropy search around sky function"
   ]
  },
  {
   "cell_type": "code",
   "execution_count": null,
   "id": "a28f9173",
   "metadata": {},
   "outputs": [],
   "source": [
    "C_sim = SkyCoord(ra=ra_sim*u.degree, dec=dec_sim*u.degree)\n",
    "C_det = SkyCoord(ra=ra_det*u.degree, dec=dec_det*u.degree)\n",
    "\n",
    "idx_sim, idx_det, d2d, d3d = C_det.search_around_sky(C_sim, dist2match_arcmin*u.arcmin)\n",
    "\n",
    "idx_det_outliers = [i for i in range(len(data_det)) if i not in idx_det]\n",
    "\n",
    "file_match = open(match_file, 'w')\n",
    "print('#0-peak_id 1-ra 2-dec 3-iobj 4-jobj 5-dist_init_kpc 6-dist_err_kpc 7-dist_min_kpc 8-dist_max_kpc 9-coverfrac 10-coverfrac_bkg 11-wradius_arcmin 12-snr 13-Naper 14-Naper_tot 15-NWaper_tot 16-Naper_bkg 17-icyl 18-tile 19-slice 20-id_in_tile 21-id 22-HPX64 23-N 24-MV 25-SNR 26-N_f 27-MV_f 28-SNR_f 29-L 30-B 31-ra 32-dec 33-r_exp 34-ell 35-pa 36-mass 37-dist', file=file_match)\n",
    "\n",
    "idx_det_prev = [] # avoid duplicates in detections\n",
    "\n",
    "for i,j in zip(idx_sim, idx_det):\n",
    "    # if idx_det not in idx_det_prev:\n",
    "    print(*data_det[:][j], data_sim[i], sep=' ', file=file_match, end='')\n",
    "    # idx_det_prev.append(idx_det)\n",
    "\n",
    "for i in (idx_det_outliers):\n",
    "    print(*data_det[i], ' -99.999 ' * len(data_sim[1].split()), sep=' ', file=file_match, end='\\n')\n",
    "\n",
    "file_match.close()\n",
    "\n",
    "idx_not_det = [i for i in range(len(data_sim)) if i not in idx_sim]\n",
    "\n",
    "file_unmatch = open(unmatch_file, 'w')\n",
    "print('#0-HPX64 1-N 2-MV 3-SNR 4-N_f 5-MV_f 6-SNR_f 7-L 8-B 9-ra 10-dec 11-r_exp 12-ell 13-pa 14-mass 15-dist', file=file_unmatch)\n",
    "\n",
    "for i in idx_not_det:\n",
    "    print(data_sim[i], sep=' ', file=file_unmatch, end='')\n",
    "file_unmatch.close()"
   ]
  },
  {
   "cell_type": "markdown",
   "id": "160586fe-b7ca-4644-b791-95e32be89e68",
   "metadata": {},
   "source": [
    "## Reading the match file and showing a few plots"
   ]
  },
  {
   "cell_type": "code",
   "execution_count": null,
   "id": "96676069",
   "metadata": {},
   "outputs": [],
   "source": [
    "ra_det, dec_det, dist_init_kpc_det, dist_err_kpc_det, wrad_arcmin_det, \\\n",
    "SNR_det, HPX64, M_V_sim_det, SNR_sim, exp_rad_sim, dist_sim = np.loadtxt(match_file,\n",
    "                                             usecols=(1, 2, 5, 6, 11, 12, 22, 24, 28, 33, 37), unpack=True)\n",
    "\n",
    "SNR_sim_undet, ra_undet, dec_undet = np.loadtxt(unmatch_file, usecols=(6, 9, 10), unpack=True)\n"
   ]
  },
  {
   "cell_type": "markdown",
   "id": "f92b2c52",
   "metadata": {},
   "source": [
    "Below, a conditional is created where the clusters matched the simulated (confirmed)\n",
    "and where clusters are just candidates."
   ]
  },
  {
   "cell_type": "code",
   "execution_count": null,
   "id": "bc81be7d",
   "metadata": {},
   "outputs": [],
   "source": [
    "true_positive = (SNR_sim > 0.)\n",
    "false_positive = (SNR_sim <= 0.)\n",
    "\n",
    "print('Total of clusters simulated: {:d}.'.format(len(ra_sim)))\n",
    "print('Total of clusters detected: {:d} (True Positives).'.format(len(np.unique(HPX64[true_positive]))))\n",
    "print('Minimum SNR detected: {:.4f}'.format(np.min(SNR_det)))\n",
    "print('Total of clusters detected with SNR > 3: {:d}.'.format(len(np.unique(HPX64[(true_positive)&(SNR_det > 3.)]))))\n",
    "print('Total of clusters detected with SNR > 5: {:d}.'.format(len(np.unique(HPX64[(true_positive)&(SNR_det > 5.)]))))\n",
    "print('Total of clusters detected with SNR > 10: {:d}.'.format(len(np.unique(HPX64[(true_positive)&(SNR_det > 10.)]))))\n",
    "print('Total of clusters undetected: {:d}.'.format(len(ra_undet)))"
   ]
  },
  {
   "cell_type": "code",
   "execution_count": null,
   "id": "e50b54bd-ca0c-4c8f-8556-e0cb530bb2c7",
   "metadata": {},
   "outputs": [],
   "source": [
    "fig, (ax1) = plt.subplots(1, 1, figsize=(10,6))\n",
    "ax1.hist(SNR_det, bins=20, range=(np.min(SNR_det) - 1., np.max(SNR_det) + 1), histtype='step', \\\n",
    "                 color = \"r\", lw=4, label='SNR')\n",
    "ax1.hist(SNR_det[true_positive], bins=20, range=(np.min(SNR_det) - 1, np.max(SNR_det) + 1), histtype='step', \\\n",
    "                 color = \"mediumblue\", lw=2, label='SNR (true positives)')\n",
    "ax1.hist(SNR_det[false_positive], bins=20, range=(np.min(SNR_det) - 1, np.max(SNR_det) + 1), histtype='step', \\\n",
    "                 color = \"maroon\", lw=3, label='SNR (false positives)')\n",
    "ax1.set_xlabel('SNR')\n",
    "ax1.set_ylabel('# Clusters')\n",
    "ax1.set_yscale('log')\n",
    "ax1.legend()\n",
    "\n",
    "fig.suptitle('SNR Histogram (detections)')\n",
    "plt.show()"
   ]
  },
  {
   "cell_type": "code",
   "execution_count": null,
   "id": "1a942809-f0bc-4d17-a3f3-5bd4dfe362d1",
   "metadata": {},
   "outputs": [],
   "source": [
    "fig, (ax1) = plt.subplots(1, 1, figsize=(10,6))\n",
    "ax1.hist(dist_init_kpc_det, bins=20, range=(np.min(dist_init_kpc_det) - 1., np.max(dist_init_kpc_det) + 1), histtype='step', \\\n",
    "                 color = \"r\", lw=4, label='Distances (kpc)')\n",
    "ax1.hist(dist_init_kpc_det[true_positive], bins=20, range=(np.min(dist_init_kpc_det) - 1, np.max(dist_init_kpc_det) + 1), histtype='step', \\\n",
    "                 color = \"mediumblue\", lw=2, label='Distances [kpc] (true positives)')\n",
    "ax1.hist(dist_init_kpc_det[false_positive], bins=20, range=(np.min(dist_init_kpc_det) - 1, np.max(dist_init_kpc_det) + 1), histtype='step', \\\n",
    "                 color = \"maroon\", lw=3, label='Distances [kpc] (false positives)')\n",
    "ax1.set_xlabel('Distances [kpc]')\n",
    "ax1.set_ylabel('# Clusters')\n",
    "# ax1.set_yscale('log')\n",
    "ax1.legend()\n",
    "\n",
    "fig.suptitle('Distances Histogram (detections)')\n",
    "plt.show()"
   ]
  },
  {
   "cell_type": "markdown",
   "id": "bd8bc155",
   "metadata": {},
   "source": [
    "Below, a conditional is created where the clusters matched the simulated (confirmed)\n",
    "and where clusters are just candidates."
   ]
  },
  {
   "cell_type": "code",
   "execution_count": null,
   "id": "f4782019",
   "metadata": {
    "slideshow": {
     "slide_type": "slide"
    }
   },
   "outputs": [],
   "source": [
    "cm = plt.cm.get_cmap('copper_r')\n",
    "\n",
    "fig = plt.figure(figsize=(16, 10))\n",
    "plt.scatter(ra_sim, dec_sim, c=SNR_sim_all, vmin=0, vmax=np.max(SNR_det), cmap=cm, s=100.0, marker='^',\n",
    "            label='Simulations: ({:d})'.format(len(ra_sim)))\n",
    "sc = plt.scatter(ra_det[true_positive], dec_det[true_positive], c=SNR_det[true_positive], vmin=0, vmax=np.max(SNR_det), marker='x', s=150.,\n",
    "                 cmap=cm, label='True Positives: ({:d})'.format(len(np.unique(HPX64[true_positive]))))\n",
    "plt.scatter(ra_det[false_positive], dec_det[false_positive], c=SNR_det[false_positive], s=200.0, cmap=cm,\n",
    "            lw=2, alpha=0.75, label='Not matched: ({:d})'.format(len(ra_det[false_positive])))\n",
    "plt.scatter(ra_undet, dec_undet, color='None', edgecolor='k', s=200.0,\n",
    "            lw=2, alpha=0.75, label='Not detected: ({:d})'.format(len(ra_undet)))\n",
    "plt.colorbar(sc,label = 'SNR detection')\n",
    "plt.xlim(np.max(ra_sim)+0.5, np.min(ra_sim)-0.5)\n",
    "plt.ylim(np.min(dec_sim)-0.5, np.max(dec_sim)+1.0)\n",
    "plt.xlabel('RA')\n",
    "plt.ylabel('DEC')\n",
    "plt.title('Spatial distribution of clusters (SN > 3.)')\n",
    "plt.legend(loc=1)\n",
    "plt.show()"
   ]
  },
  {
   "cell_type": "code",
   "execution_count": null,
   "id": "127927bb-458e-4334-bd3b-f86e224aa5bb",
   "metadata": {},
   "outputs": [],
   "source": [
    "fig = plt.figure(figsize=(16, 10))\n",
    "plt.scatter(ra_sim, dec_sim, c=SNR_sim_all, vmin=0, vmax=np.max(SNR_det), cmap=cm, s=100.0, marker='^',\n",
    "            label='Simulations: ({:d})'.format(len(ra_sim)))\n",
    "cond = (true_positive)&(SNR_det > 5)\n",
    "sc = plt.scatter(ra_det[(true_positive)&(cond)], dec_det[(true_positive)&(cond)],\n",
    "                 c=SNR_det[(true_positive)&(cond)], vmin=0, vmax=np.max(SNR_det), marker='x', s=150.,\n",
    "                 cmap=cm, label='True Positives: ({:d})'.format(len(np.unique(HPX64[true_positive]))))\n",
    "plt.scatter(ra_det[(false_positive)&(cond)], dec_det[(false_positive)&(cond)],\n",
    "            c=SNR_det[(false_positive)&(cond)], s=200.0, cmap=cm,\n",
    "            lw=2, alpha=0.75, label='Not matched: ({:d})'.format(len(ra_det[(false_positive)&(cond)])))\n",
    "plt.scatter(ra_undet, dec_undet, color='None', edgecolor='k', s=200.0,\n",
    "            lw=2, alpha=0.75, label='Not detected: ({:d})'.format(len(ra_undet)))\n",
    "plt.colorbar(sc,label = 'SNR detection')\n",
    "plt.xlim(np.max(ra_sim)+0.5, np.min(ra_sim)-0.5)\n",
    "plt.ylim(np.min(dec_sim)-0.5, np.max(dec_sim)+1.0)\n",
    "plt.xlabel('RA')\n",
    "plt.ylabel('DEC')\n",
    "plt.title('Spatial distribution of clusters with SNR > 5')\n",
    "plt.legend(loc=1)\n",
    "plt.show()"
   ]
  },
  {
   "cell_type": "code",
   "execution_count": null,
   "id": "088b116c-c906-4407-8cbf-a34c72ea2204",
   "metadata": {},
   "outputs": [],
   "source": [
    "fig = plt.figure(figsize=(16, 10))\n",
    "plt.scatter(ra_sim, dec_sim, c=SNR_sim_all, vmin=0, vmax=np.max(SNR_det), cmap=cm, s=100.0, marker='^',\n",
    "            label='Simulations: ({:d})'.format(len(ra_sim)))\n",
    "cond = (true_positive)&(SNR_det > 10)\n",
    "sc = plt.scatter(ra_det[(true_positive)&(cond)], dec_det[(true_positive)&(cond)],\n",
    "                 c=SNR_det[(true_positive)&(cond)], vmin=0, vmax=np.max(SNR_det), marker='x', s=150.,\n",
    "                 cmap=cm, label='True Positives: ({:d})'.format(len(np.unique(HPX64[true_positive]))))\n",
    "plt.scatter(ra_det[(false_positive)&(cond)], dec_det[(false_positive)&(cond)],\n",
    "            c=SNR_det[(false_positive)&(cond)], s=200.0, cmap=cm,\n",
    "            lw=2, alpha=0.75, label='Not matched: ({:d})'.format(len(ra_det[(false_positive)&(cond)])))\n",
    "plt.scatter(ra_undet, dec_undet, color='None', edgecolor='k', s=200.0,\n",
    "            lw=2, alpha=0.75, label='Not detected: ({:d})'.format(len(ra_undet)))\n",
    "plt.colorbar(sc, label = 'SNR detection')\n",
    "plt.xlim(np.max(ra_sim) + 0.5, np.min(ra_sim)-0.5)\n",
    "plt.ylim(np.min(dec_sim) - 0.5, np.max(dec_sim)+1.0)\n",
    "plt.xlabel('RA')\n",
    "plt.ylabel('DEC')\n",
    "plt.title('Spatial distribution of clusters with SNR > 10')\n",
    "plt.legend(loc=1)\n",
    "plt.show()"
   ]
  },
  {
   "cell_type": "markdown",
   "id": "9bb884a5-35a4-45f5-8cb6-31afb118033e",
   "metadata": {},
   "source": [
    "We can notice that all detected and true clusters (True Positives) have high signal-to-noise ratio (SNR),\n",
    "while those with low SNR are false positives (FP), represented by small blue circles.\n",
    "\n",
    "It is important to highlight in this case that all simulated clusters were detected. There may be cases where\n",
    "not all simulated clusters are detected. In this case, the code should read the clusters\n",
    "simulated again to see how complete the detection is."
   ]
  },
  {
   "cell_type": "code",
   "execution_count": null,
   "id": "ea78e1dd-b87e-4002-8507-c76c475b6262",
   "metadata": {},
   "outputs": [],
   "source": [
    "# Convert to function:\n",
    "half_light_radius_arcmin = 1.7 * 60. * np.rad2deg(np.arctan(exp_rad_sim / dist_sim))\n",
    "'''\n",
    "fig = plt.figure(figsize=(16, 10))\n",
    "plt.scatter(10*half_light_radius_arcmin, wrad_arcmin_det, c='k', marker='s')\n",
    "plt.plot(np.linspace(0., 1.1 * np.max(wrad_arcmin_det), 4), np.linspace(0., 1.1 * np.max(wrad_arcmin_det), 4), color = 'r')\n",
    "plt.xlabel(r'$10 x r_{1/2}$ arcmin (simulations)')\n",
    "plt.ylabel(r'wrad arcmin (detection)')\n",
    "plt.xlim([0, 1.1*np.max(wrad_arcmin_det)])\n",
    "plt.ylim([0, 1.1*np.max(wrad_arcmin_det)])\n",
    "plt.show()\n",
    "'''"
   ]
  },
  {
   "cell_type": "code",
   "execution_count": null,
   "id": "6836e8d6-43df-4945-b5b6-38e4c1bec478",
   "metadata": {},
   "outputs": [],
   "source": [
    "fig = plt.figure(figsize=(16, 10))\n",
    "plt.scatter(SNR_sim, SNR_det)\n",
    "plt.plot(np.linspace(0., 1.1 * max(np.max(SNR_sim),np.max(SNR_det)), 4),\n",
    "        np.linspace(0., 1.1 * max(np.max(SNR_sim),np.max(SNR_det)), 4), color = 'r')\n",
    "plt.xlabel('SNR (simulations)')\n",
    "plt.ylabel('SNR (detections)')\n",
    "plt.xlim([0.1, 1.05 * max(np.max(SNR_sim),np.max(SNR_det))])\n",
    "plt.ylim([0.1, 1.05 * max(np.max(SNR_sim),np.max(SNR_det))])\n",
    "plt.show()"
   ]
  },
  {
   "cell_type": "code",
   "execution_count": null,
   "id": "1e7c87a1-6351-46f0-bfe6-4225e02dc05b",
   "metadata": {},
   "outputs": [],
   "source": [
    "dist_sim_kpc = dist_sim / 1000\n",
    "fig = plt.figure(figsize=(16, 10))\n",
    "plt.errorbar(dist_sim_kpc[true_positive], dist_init_kpc_det[true_positive], yerr=dist_err_kpc_det[true_positive], xerr=None,\n",
    "             fmt='o', c='k')\n",
    "plt.plot(np.linspace(0.8 * min(np.min(dist_sim_kpc),np.min(dist_init_kpc_det)), 1.2 * max(np.max(dist_sim_kpc),np.max(dist_init_kpc_det)), 4),\n",
    "        np.linspace(0.8 * min(np.min(dist_sim_kpc),np.min(dist_init_kpc_det)), 1.2 * max(np.max(dist_sim_kpc),np.max(dist_init_kpc_det)), 4), color = 'r')\n",
    "plt.xlim([0.8 * min(np.min(dist_sim_kpc),np.min(dist_init_kpc_det)), 1.2 * max(np.max(dist_sim_kpc),np.max(dist_init_kpc_det))])\n",
    "plt.ylim([0.8 * min(np.min(dist_sim_kpc),np.min(dist_init_kpc_det)), 1.2 * max(np.max(dist_sim_kpc),np.max(dist_init_kpc_det))])\n",
    "plt.title('Comparing recovery distances')\n",
    "plt.xlabel('Distances (kpc) from simulations')\n",
    "plt.ylabel('Distances (kpc) from detections')\n",
    "plt.show()"
   ]
  },
  {
   "cell_type": "markdown",
   "id": "6f92caf9-d4c8-4909-beb0-f9d98c526c1d",
   "metadata": {},
   "source": [
    "## Purity of detection distance modulus"
   ]
  },
  {
   "cell_type": "code",
   "execution_count": null,
   "id": "c4c46c54-f857-4294-a89e-b5e1ca099525",
   "metadata": {},
   "outputs": [],
   "source": [
    "SNR_range = np.arange(np.min(SNR_det[true_positive]), np.max(SNR_det[true_positive]), 1.)\n",
    "\n",
    "comp_wrt_SNR = np.zeros(len(SNR_range))\n",
    "pur_wrt_SNR = np.zeros(len(SNR_range))\n",
    "\n",
    "for i, j in enumerate(SNR_range):\n",
    "    comp_wrt_SNR[i] = len(SNR_det[(true_positive)&(SNR_det > j)]) / len(ra_sim)\n",
    "    pur_wrt_SNR[i] = len(SNR_det[(true_positive)&(SNR_det > j)]) / len(SNR_det[(SNR_det > j)])\n",
    "\n",
    "fig, ax = plt.subplots(figsize=(16, 10))\n",
    "ax.plot(SNR_range, comp_wrt_SNR, label='Completeness', color='r', lw=2)\n",
    "ax.plot(SNR_range, pur_wrt_SNR, label='Purity', color='b', lw=2)\n",
    "ax.set_xlim([0., 1.1* np.max(SNR_range)])\n",
    "ax.set_ylim([0, 1.1])\n",
    "ax.set_title('Purity/Completeness versus SNR')\n",
    "ax.set_xlabel('SNR from detections')\n",
    "ax.set_ylabel('Completeness / Purity')\n",
    "ax.legend()\n",
    "plt.show()\n",
    "\n",
    "fig, ax = plt.subplots(figsize=(16, 10))\n",
    "ax.plot(SNR_range, comp_wrt_SNR, label='Completeness', color='r', lw=2)\n",
    "ax.plot(SNR_range, pur_wrt_SNR, label='Purity', color='b', lw=2)\n",
    "ax.set_xlim([3., 10.])\n",
    "ax.set_ylim([0.9, 1.05])\n",
    "ax.set_title('Purity/Completeness versus SNR')\n",
    "ax.set_xlabel('SNR from detections')\n",
    "ax.set_ylabel('Completeness / Purity')\n",
    "ax.legend()\n",
    "plt.show()"
   ]
  },
  {
   "cell_type": "markdown",
   "id": "ac4af412-0354-4d03-b262-7a5227079991",
   "metadata": {},
   "source": [
    "Below we will calculate the detection purity given the detected distance."
   ]
  },
  {
   "cell_type": "code",
   "execution_count": null,
   "id": "114e7332",
   "metadata": {},
   "outputs": [],
   "source": [
    "# 0-peak_id 1-ra 2-dec 3-iobj 4-jobj 5-dist_init_kpc 6-dist_err_kpc 7-dist_min_kpc 8-dist_max_kpc 9-coverfrac\n",
    "# 10-coverfrac_bkg 11-wradius_arcmin 12-snr 13-Naper 14-Naper_tot 15-NWaper_tot 16-Naper_bkg 17-icyl 18-tile 19-slice\n",
    "# 20-id_in_tile 21-id 22-HPX64 23-N 24-MV 25-SNR 26-N_f 27-MV_f 28-SNR_f 29-L\n",
    "# 30-B 31-ra 32-dec 33-r_exp 34-ell 35-pa 36-mass 37-dist'\n",
    "dist_kpc_det, disterr_kpc_det = np.loadtxt(match_file, usecols=(5, 6), unpack=True)\n",
    "\n",
    "m_M_det = 5 * np.log10(dist_kpc_det) + 10.\n",
    "\n",
    "plot_pure(m_M_det, m_M_det[true_positive], 'Detection distance module', 'Purity wrt Distance Modulus (detection)', bins_mM)"
   ]
  },
  {
   "cell_type": "code",
   "execution_count": null,
   "id": "c964e22a",
   "metadata": {},
   "outputs": [],
   "source": [
    "plot_pure(SNR_det, SNR_det[true_positive], 'Signal-to-noise ratio (detection)', 'Purity wrt Signal-to-Noise Ratio')"
   ]
  },
  {
   "cell_type": "code",
   "execution_count": null,
   "id": "c41cafe3-33e2-45d3-9812-79471336c24d",
   "metadata": {},
   "outputs": [],
   "source": [
    "ipix, Nstar, M_V, SNR, L, B, RA_pix, DEC_pix, r_exp_pc, ell, pa, mass, dist = np.loadtxt(input_simulation_path + '/star_clusters_simulated.dat',\n",
    "                                                                                         usecols=(0, 4, 5, 6, 7, 8, 9, 10, 11, 12, 13, 14, 15),\n",
    "                                                                                         unpack=True)\n",
    "\n",
    "plot_comp(M_V, idx_sim, 'M_V', 'Absolute Magnitude in V band')"
   ]
  },
  {
   "cell_type": "code",
   "execution_count": null,
   "id": "1fce4b97-64d3-43d8-b5be-0ffb9267beea",
   "metadata": {},
   "outputs": [],
   "source": [
    "plot_comp(dist, idx_sim, 'r (pc) simulated', 'Completeness wrt Distance (simulations)')"
   ]
  },
  {
   "cell_type": "code",
   "execution_count": null,
   "id": "6d83c0ff-8c00-426e-a49a-7511d7844749",
   "metadata": {},
   "outputs": [],
   "source": [
    "plot_comp(SNR, idx_sim, 'SNR', 'Completeness wrt Signal to Noise Ratio')"
   ]
  },
  {
   "cell_type": "code",
   "execution_count": null,
   "id": "16d14cd0-1d53-4e5b-b61e-fea24a928a6c",
   "metadata": {},
   "outputs": [],
   "source": [
    "mM_sim = 5 * np.log10(dist) - 5.\n",
    "\n",
    "plot_comp(mM_sim, idx_sim, 'm-M', 'Distance modulus')"
   ]
  },
  {
   "cell_type": "code",
   "execution_count": null,
   "id": "8c7bc0cf-3a88-47cc-8b9c-64053557fe5d",
   "metadata": {},
   "outputs": [],
   "source": [
    "# 0-peak_id 1-ra 2-dec 3-iobj 4-jobj 5-dist_init_kpc 6-dist_err_kpc 7-dist_min_kpc 8-dist_max_kpc 9-coverfrac\n",
    "# 10-coverfrac_bkg 11-wradius_arcmin 12-snr 13-Naper 14-Naper_tot 15-NWaper_tot 16-Naper_bkg 17-icyl 18-tile 19-slice\n",
    "# 20-id_in_tile 21-id 22-HPX64 23-N 24-MV 25-SNR 26-N_f 27-MV_f 28-SNR_f 29-L\n",
    "# 30-B 31-ra 32-dec 33-r_exp 34-ell 35-pa 36-mass 37-dist'\n",
    "exp_rad_sim_det, M_V_sim_det, dist_sim_det = np.loadtxt(match_file, usecols=(33, 27, 37), unpack=True)\n",
    "\n",
    "full_completeness_distances(M_V, M_V_sim_det, 1.7 * r_exp_pc, 1.7 * exp_rad_sim_det, dist, dist_sim_det)"
   ]
  },
  {
   "cell_type": "markdown",
   "id": "1028db2d-ac3f-45bd-90cd-77efc4869786",
   "metadata": {},
   "source": [
    "## Clusters simulated but not detected"
   ]
  },
  {
   "cell_type": "code",
   "execution_count": null,
   "id": "51bdf6fc-891f-4267-98de-b6844c9fafaf",
   "metadata": {},
   "outputs": [],
   "source": [
    "HPX64, N, MV, SNR, N_f, MV_f, SNR_f, L, B, ra, dec, r_exp, ell, pa, mass, dist = np.loadtxt(unmatch_file, unpack=True)\n",
    "\n",
    "n_col = 4\n",
    "n_row = int(len(N) / n_col) + 1\n",
    "\n",
    "gr, g = np.loadtxt(mask_file, usecols=(0, 1), unpack=True)\n",
    "\n",
    "fig, axs = plt.subplots(n_row, n_col, figsize=(16, 4 * n_row), dpi=150.)\n",
    "\n",
    "for ax, HPX in zip(axs.flat, HPX64):\n",
    "    ax.set_title('HPX: {:d}'.format(int(HPX)))\n",
    "    data = fits.getdata(input_simulation_path + '/hpx_cats_clean/' + str(int(HPX)) + '.fits')\n",
    "    MAGG = data['mag_g_with_err']\n",
    "    MAGR = data['mag_r_with_err']\n",
    "    GC = data['GC']\n",
    "    ax.scatter(MAGG[GC == 0] - MAGR[GC == 0], MAGG[GC == 0], color='lightgrey', label='MW', s=0.1)\n",
    "    ax.scatter(MAGG[GC == 1] - MAGR[GC == 1], MAGG[GC == 1], color='r', label='Cluster', s=0.4)\n",
    "    \n",
    "    for i in range(len(mM_slices)):\n",
    "        ax.plot(gr, g + mM_slices[i], label='m-M={:.2f}'.format(mM_slices[i]), lw=1)\n",
    "    ax.set_xlim(param2['isochrone_masks'][param2['survey']]['mask_color_min'], param2['isochrone_masks'][param2['survey']]['mask_color_max'])\n",
    "    ax.set_ylim(param2['isochrone_masks'][param2['survey']]['mask_mag_max'], param2['isochrone_masks'][param2['survey']]['mask_mag_min'])\n",
    "    ax.set_xlabel(r'$g_0-r_0$')\n",
    "    ax.set_ylabel(r'$g_0$')\n",
    "    # ax.legend()\n",
    "# axs[n_row, n_col].legend()\n",
    "plt.tight_layout()                      \n",
    "plt.show()\n"
   ]
  }
 ],
 "metadata": {
  "kernelspec": {
   "display_name": "emcee",
   "language": "python",
   "name": "emcee"
  },
  "language_info": {
   "codemirror_mode": {
    "name": "ipython",
    "version": 3
   },
   "file_extension": ".py",
   "mimetype": "text/x-python",
   "name": "python",
   "nbconvert_exporter": "python",
   "pygments_lexer": "ipython3",
   "version": "3.10.4"
  }
 },
 "nbformat": 4,
 "nbformat_minor": 5
}
