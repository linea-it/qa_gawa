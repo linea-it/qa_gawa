{
 "cells": [
  {
   "cell_type": "code",
   "execution_count": null,
   "id": "fcf6daf0",
   "metadata": {
    "slideshow": {
     "slide_type": "slide"
    }
   },
   "outputs": [],
   "source": [
    "import matplotlib.pyplot as plt\n",
    "import numpy as np\n",
    "import warnings, json, astropy, os, tabulate\n",
    "import astropy.io.fits as fits\n",
    "from astropy.io.fits import getdata\n",
    "import astropy.units as u\n",
    "from astropy.coordinates import SkyCoord\n",
    "warnings.filterwarnings(\"ignore\")\n",
    "from qa_gawa.qa_gawa import (\n",
    "    plot_pure,\n",
    "    plot_comp,\n",
    "    full_completeness_distances,\n",
    "    plot_clus_position,\n",
    "    plots_ang_size,\n",
    "    general_plots,\n",
    "    recursive_print_dict,\n",
    "    reading_data,\n",
    "    plot_masks,\n",
    "    matching_sim_det,\n",
    "    write_det_numbers,\n",
    "    SNR_hist,\n",
    "    dist_hist,\n",
    "    det_sky,\n",
    "    dist_dist,\n",
    "    SNR_SNR,\n",
    "    puri_comp,\n",
    "    plot_pure_mM,\n",
    "    plot_pure_SNR,\n",
    "    plot_comp_all,\n",
    "    print_undet_table,\n",
    "    undet_cmds\n",
    ")\n",
    "\n",
    "import tabulate\n",
    "import matplotlib \n",
    "font = {'family' : 'DejaVu Sans',\n",
    "        'weight' : 'normal',\n",
    "        'size'   : 12}\n",
    "\n",
    "matplotlib.rc('font', **font)"
   ]
  },
  {
   "cell_type": "markdown",
   "id": "0feae578",
   "metadata": {},
   "source": [
    "## Introduction\n",
    "\n",
    "This jupyter notebook is intended to show plots about the ability of Gawa tto recover simulated stellar systems. <br>\n",
    "The two main inputs are the list of clusters simulated and the list of detected clusters. <br>\n",
    "\n",
    "The first task is to match the list of simulated clusters to the list of detected clusters.\n",
    "\n",
    "Run this jupyter notebook in the LIneA env with the following command:\n",
    "<br>\n",
    "`jupyter nbconvert --execute --to html --EmbedImagesPreprocessor.embed_images=True qa_gawa.ipynb`\n",
    "<br>\n",
    "and after the command has finished, run the following cell:\n",
    "<br>\n",
    " cp qa_gawa.html ~/public_html/gawa_processes/00010/detections/qa\n",
    "<br>\n",
    "where 00010 is the process number.\n",
    "\n",
    "Reading the configuration file and creating a folder for the results:"
   ]
  },
  {
   "cell_type": "code",
   "execution_count": null,
   "id": "2f8570ad",
   "metadata": {},
   "outputs": [],
   "source": [
    "confg = \"qa_gawa.json\"\n",
    "\n",
    "with open(confg) as fstream:\n",
    "    param = json.load(fstream)\n",
    "\n",
    "globals().update(param)\n",
    "\n",
    "os.system(\"mkdir -p \" + input_detection_path + \"/qa\")\n",
    "\n",
    "config_gawa = input_detection_path + \"/gawa.cfg\"\n",
    "\n",
    "with open(config_gawa) as fstream:\n",
    "    param2 = json.load(fstream)\n",
    "mask_file = param2['isochrone_masks'][param2['survey']]['model_file']"
   ]
  },
  {
   "cell_type": "markdown",
   "id": "4c9bc7ca-78b1-4b0c-90df-5ab630d30525",
   "metadata": {},
   "source": [
    "Cell below shows the list of params of the detection:"
   ]
  },
  {
   "cell_type": "code",
   "execution_count": null,
   "id": "280eea57-9d2d-4b39-9e0f-2aee1add19e6",
   "metadata": {},
   "outputs": [],
   "source": [
    "recursive_print_dict(param2)"
   ]
  },
  {
   "cell_type": "markdown",
   "id": "9176486d-371e-437f-8699-cea32985ab13",
   "metadata": {},
   "source": [
    "Now plotting the set of masks applied to detect simulated clusters:"
   ]
  },
  {
   "cell_type": "code",
   "execution_count": null,
   "id": "2ac26074-6e8d-4400-a88c-b7a67fe40627",
   "metadata": {},
   "outputs": [],
   "source": [
    "plot_masks(input_detection_path, mask_file, param2)"
   ]
  },
  {
   "cell_type": "markdown",
   "id": "4b5f8328-12b6-4a1e-8461-5eef88c34e81",
   "metadata": {},
   "source": [
    "## Matching detections and simulations"
   ]
  },
  {
   "cell_type": "markdown",
   "id": "56df7777-fe79-49b9-9814-586dbdc1f076",
   "metadata": {},
   "source": [
    "### Matching with astropy search around sky function"
   ]
  },
  {
   "cell_type": "code",
   "execution_count": null,
   "id": "a28f9173",
   "metadata": {},
   "outputs": [],
   "source": [
    "idx_sim, dix_det = matching_sim_det(input_simulation_path + '/star_clusters_simulated.dat', input_detection_path + '/clusters.fits',\n",
    "                 match_file, unmatch_file, dist2match_arcmin)\n"
   ]
  },
  {
   "cell_type": "markdown",
   "id": "160586fe-b7ca-4644-b791-95e32be89e68",
   "metadata": {},
   "source": [
    "## Reading the match file and showing a few plots"
   ]
  },
  {
   "cell_type": "code",
   "execution_count": null,
   "id": "96676069",
   "metadata": {},
   "outputs": [],
   "source": [
    "write_det_numbers(input_detection_path, input_simulation_path, match_file, unmatch_file)"
   ]
  },
  {
   "cell_type": "markdown",
   "id": "f92b2c52",
   "metadata": {},
   "source": [
    "Below, a conditional is created where the clusters matched the simulated (confirmed)\n",
    "and where clusters are just candidates."
   ]
  },
  {
   "cell_type": "code",
   "execution_count": null,
   "id": "e50b54bd-ca0c-4c8f-8556-e0cb530bb2c7",
   "metadata": {},
   "outputs": [],
   "source": [
    "SNR_hist(input_detection_path, input_simulation_path, match_file, unmatch_file)"
   ]
  },
  {
   "cell_type": "code",
   "execution_count": null,
   "id": "1a942809-f0bc-4d17-a3f3-5bd4dfe362d1",
   "metadata": {},
   "outputs": [],
   "source": [
    "dist_hist(input_detection_path, input_simulation_path, match_file, unmatch_file)"
   ]
  },
  {
   "cell_type": "markdown",
   "id": "bd8bc155",
   "metadata": {},
   "source": [
    "Below, a conditional is created where the clusters matched the simulated (confirmed)\n",
    "and where clusters are just candidates."
   ]
  },
  {
   "cell_type": "code",
   "execution_count": null,
   "id": "088b116c-c906-4407-8cbf-a34c72ea2204",
   "metadata": {},
   "outputs": [],
   "source": [
    "det_sky(input_detection_path, input_simulation_path, match_file, unmatch_file)"
   ]
  },
  {
   "cell_type": "markdown",
   "id": "9bb884a5-35a4-45f5-8cb6-31afb118033e",
   "metadata": {},
   "source": [
    "We can notice that all detected and true clusters (True Positives) have high signal-to-noise ratio (SNR),\n",
    "while those with low SNR are false positives (FP), represented by small blue circles.\n",
    "\n",
    "It is important to highlight in this case that all simulated clusters were detected. There may be cases where\n",
    "not all simulated clusters are detected. In this case, the code should read the clusters\n",
    "simulated again to see how complete the detection is."
   ]
  },
  {
   "cell_type": "code",
   "execution_count": null,
   "id": "ea78e1dd-b87e-4002-8507-c76c475b6262",
   "metadata": {},
   "outputs": [],
   "source": [
    "SNR_SNR(input_detection_path, input_simulation_path, match_file, unmatch_file)"
   ]
  },
  {
   "cell_type": "code",
   "execution_count": null,
   "id": "1e7c87a1-6351-46f0-bfe6-4225e02dc05b",
   "metadata": {},
   "outputs": [],
   "source": [
    "dist_dist(input_detection_path, input_simulation_path, match_file, unmatch_file)"
   ]
  },
  {
   "cell_type": "markdown",
   "id": "6f92caf9-d4c8-4909-beb0-f9d98c526c1d",
   "metadata": {},
   "source": [
    "## Purity of detection distance modulus"
   ]
  },
  {
   "cell_type": "code",
   "execution_count": null,
   "id": "c4c46c54-f857-4294-a89e-b5e1ca099525",
   "metadata": {},
   "outputs": [],
   "source": [
    "puri_comp(input_detection_path, input_simulation_path, match_file, unmatch_file)"
   ]
  },
  {
   "cell_type": "markdown",
   "id": "ac4af412-0354-4d03-b262-7a5227079991",
   "metadata": {},
   "source": [
    "Below we will calculate the detection purity given the detected distance."
   ]
  },
  {
   "cell_type": "code",
   "execution_count": null,
   "id": "114e7332",
   "metadata": {},
   "outputs": [],
   "source": [
    "plot_pure_mM(input_detection_path, input_simulation_path, match_file, unmatch_file)"
   ]
  },
  {
   "cell_type": "code",
   "execution_count": null,
   "id": "c964e22a",
   "metadata": {},
   "outputs": [],
   "source": [
    "plot_pure_SNR(input_detection_path, input_simulation_path, match_file, unmatch_file)"
   ]
  },
  {
   "cell_type": "markdown",
   "id": "8a42faa2-d383-4ea3-805e-06dcde28eea2",
   "metadata": {},
   "source": [
    "## Completeness of detections"
   ]
  },
  {
   "cell_type": "code",
   "execution_count": null,
   "id": "c41cafe3-33e2-45d3-9812-79471336c24d",
   "metadata": {},
   "outputs": [],
   "source": [
    "plot_comp_all(input_detection_path, input_simulation_path, match_file, unmatch_file, idx_sim)"
   ]
  },
  {
   "cell_type": "markdown",
   "id": "1028db2d-ac3f-45bd-90cd-77efc4869786",
   "metadata": {},
   "source": [
    "## Clusters simulated but not detected"
   ]
  },
  {
   "cell_type": "code",
   "execution_count": null,
   "id": "2a53de53-a955-4ed5-9575-3b39e1e2b220",
   "metadata": {},
   "outputs": [],
   "source": [
    "print_undet_table(unmatch_file)"
   ]
  },
  {
   "cell_type": "code",
   "execution_count": null,
   "id": "51bdf6fc-891f-4267-98de-b6844c9fafaf",
   "metadata": {},
   "outputs": [],
   "source": [
    "undet_cmds(unmatch_file, mask_file, input_simulation_path, input_detection_path, param2)"
   ]
  },
  {
   "cell_type": "code",
   "execution_count": null,
   "id": "f1a3dd22-6c74-44e9-9d0f-d992339898ee",
   "metadata": {},
   "outputs": [],
   "source": [
    "general_plots(input_simulation_path + '/star_clusters_simulated.dat', unmatch_file)"
   ]
  },
  {
   "cell_type": "code",
   "execution_count": null,
   "id": "64f9cea6-faa1-4297-b048-9b1658a52e73",
   "metadata": {},
   "outputs": [],
   "source": [
    "plot_clus_position(unmatch_file, 'ra', 'dec', input_simulation_path + '/hpx_cats_clean')"
   ]
  },
  {
   "cell_type": "code",
   "execution_count": null,
   "id": "b951f1ab-2650-45ab-b94f-87dd783c64e6",
   "metadata": {},
   "outputs": [],
   "source": [
    "plots_ang_size(input_simulation_path + '/star_clusters_simulated.dat', unmatch_file, -2.00)"
   ]
  }
 ],
 "metadata": {
  "kernelspec": {
   "display_name": "emcee",
   "language": "python",
   "name": "emcee"
  },
  "language_info": {
   "codemirror_mode": {
    "name": "ipython",
    "version": 3
   },
   "file_extension": ".py",
   "mimetype": "text/x-python",
   "name": "python",
   "nbconvert_exporter": "python",
   "pygments_lexer": "ipython3",
   "version": "3.10.4"
  }
 },
 "nbformat": 4,
 "nbformat_minor": 5
}
