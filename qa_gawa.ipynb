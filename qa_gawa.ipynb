{
 "cells": [
  {
   "cell_type": "code",
   "execution_count": null,
   "id": "fcf6daf0",
   "metadata": {
    "slideshow": {
     "slide_type": "slide"
    }
   },
   "outputs": [],
   "source": [
    "import matplotlib.pyplot as plt\n",
    "import numpy as np\n",
    "import warnings, json, astropy, os\n",
    "import astropy.io.fits as fits\n",
    "from astropy.io.fits import getdata\n",
    "import astropy.units as u\n",
    "from astropy.coordinates import SkyCoord\n",
    "warnings.filterwarnings(\"ignore\")\n",
    "from qa_gawa import plot_pure, plot_comp, full_completeness_distances\n",
    "import matplotlib \n",
    "#matplotlib.rc('xtick', labelsize=20) \n",
    "#matplotlib.rc('ytick', labelsize=20) \n",
    "font = {'family' : 'normal',\n",
    "        'weight' : 'normal',\n",
    "        'size'   : 12}\n",
    "\n",
    "matplotlib.rc('font', **font)\n",
    "# plt.rcParams[\"figure.figsize\"] = (10,8)\n",
    "# plt.style.use(['science' , 'notebook', 'grid'])"
   ]
  },
  {
   "cell_type": "markdown",
   "id": "0feae578",
   "metadata": {},
   "source": [
    "## Introduction\n",
    "\n",
    "In this jupyter notebook we are working with simulated cluster detections.\n",
    "There is a table of simulated clusters that were entered into a stellar field, and another table\n",
    "of detections, where a positional match has already been made between the simulated and detected clusters.\n",
    "\n",
    "In this round, 66 globular clusters with exponential density profile were simulated,\n",
    "where each cluster is located at the center of a HealPix pixel with nside=64,\n",
    "with the distance between one cluster and another ~1 degree and a half-light radius of ~1 arcmin.\n",
    "\n",
    "Below is information about detections only.\n",
    "\n",
    "Run this jupyter notebook in the LIneA env with the following command:\n",
    "<br>\n",
    "`jupyter nbconvert --execute --to html --EmbedImagesPreprocessor.embed_images=True qa_gawa.ipynb`\n",
    "<br>\n",
    "and after the command has finished, run the following cell:\n",
    "<br>\n",
    " cp qa_gawa.html ~/public_html/gawa_processes/00010/detections/qa\n",
    "<br>\n",
    "where 00010 is the process number.\n",
    "\n"
   ]
  },
  {
   "cell_type": "code",
   "execution_count": null,
   "id": "2f8570ad",
   "metadata": {},
   "outputs": [],
   "source": [
    "# Main settings:\n",
    "confg = \"qa_gawa.json\"\n",
    "\n",
    "# read config file\n",
    "with open(confg) as fstream:\n",
    "    param = json.load(fstream)\n",
    "\n",
    "globals().update(param)\n",
    "\n",
    "# Creating folder of QA results\n",
    "os.system(\"mkdir -p \" + input_detection_path + \"/qa\")\n"
   ]
  },
  {
   "cell_type": "markdown",
   "id": "4b5f8328-12b6-4a1e-8461-5eef88c34e81",
   "metadata": {},
   "source": [
    "## Matching detections and simulations\n",
    "### Reading data\n",
    "Reading data from detections and simulations:"
   ]
  },
  {
   "cell_type": "code",
   "execution_count": null,
   "id": "6ed3a3df",
   "metadata": {},
   "outputs": [],
   "source": [
    "det_file = input_detection_path + '/clusters.fits'\n",
    "data_det = getdata(det_file)\n",
    "ra_det = data_det[\"ra\"]\n",
    "dec_det = data_det[\"dec\"]\n",
    "\n",
    "slices_file = input_detection_path + '/dslices.fits'\n",
    "data_sl = getdata(slices_file)\n",
    "d_slices_pc = data_sl[\"dist_pc\"]\n",
    "mM_slices = 5 * np.log10(d_slices_pc) - 5.\n",
    "\n",
    "bin_size_mM = mM_slices[1] - mM_slices[0]\n",
    "bins_mM = np.linspace(mM_slices[0] - bin_size_mM / 2, mM_slices[-1] + bin_size_mM / 2, len(mM_slices) + 1, endpoint=True)\n",
    "print(bins_mM)\n",
    "\n",
    "f_sim = open(input_simulation_path + '/star_clusters_simulated.dat', 'r')\n",
    "data_sim = f_sim.readlines()[1:]\n",
    "\n",
    "file_sim = input_simulation_path + '/star_clusters_simulated.dat'\n",
    "ra_sim, dec_sim, SNR_sim_all = np.loadtxt(file_sim, usecols=(9, 10, 6), unpack=True)"
   ]
  },
  {
   "cell_type": "markdown",
   "id": "56df7777-fe79-49b9-9814-586dbdc1f076",
   "metadata": {},
   "source": [
    "### Matching with astropy search around sky function"
   ]
  },
  {
   "cell_type": "code",
   "execution_count": null,
   "id": "a28f9173",
   "metadata": {},
   "outputs": [],
   "source": [
    "C_sim = SkyCoord(ra=ra_sim*u.degree, dec=dec_sim*u.degree)\n",
    "C_det = SkyCoord(ra=ra_det*u.degree, dec=dec_det*u.degree)\n",
    "\n",
    "idx_sim, idx_det, d2d, d3d = C_det.search_around_sky(C_sim, 1*u.arcmin)\n",
    "\n",
    "idx_det_outliers = [i for i in range(len(data_det)) if i not in idx_det]\n",
    "\n",
    "file_match = open(match_file, 'w')\n",
    "print('#0-peak_id 1-ra 2-dec 3-iobj 4-jobj 5-dist_init_kpc 6-dist_err_kpc 7-dist_min_kpc 8-dist_max_kpc 9-coverfrac 10-coverfrac_bkg 11-wradius_arcmin 12-snr 13-Naper 14-Naper_tot 15-NWaper_tot 16-Naper_bkg 17-icyl 18-tile 19-slice 20-id_in_tile 21-id 22-HPX64 23-N 24-MV 25-SNR 26-N_f 27-MV_f 28-SNR_f 29-L 30-B 31-ra 32-dec 33-r_exp 34-ell 35-pa 36-mass 37-dist', file=file_match)\n",
    "\n",
    "for i,j in zip(idx_sim, idx_det):\n",
    "    print(*data_det[:][j], data_sim[i], sep=' ', file=file_match, end='')\n",
    "\n",
    "for i in (idx_det_outliers):\n",
    "    print(*data_det[i], ' -99.999 ' * len(data_sim[1].split()), sep=' ', file=file_match, end='\\n')\n",
    "\n",
    "file_match.close()"
   ]
  },
  {
   "cell_type": "code",
   "execution_count": null,
   "id": "96676069",
   "metadata": {},
   "outputs": [],
   "source": [
    "ra_det, dec_det, dist_init_kpc_det, dist_err_kpc_det, \\\n",
    "HPX64, SNR_det, SNR_sim, wrad_arcmin_det, exp_rad_sim, dist_sim, M_V_sim_det = np.loadtxt(match_file,\n",
    "                                             usecols=(1, 2, 5, 6, 22, 12, 28, 11, 33, 37, 24), unpack=True)\n"
   ]
  },
  {
   "cell_type": "markdown",
   "id": "f92b2c52",
   "metadata": {},
   "source": [
    "Below, a conditional is created where the clusters matched the simulated (confirmed)\n",
    "and where clusters are just candidates."
   ]
  },
  {
   "cell_type": "code",
   "execution_count": null,
   "id": "bc81be7d",
   "metadata": {},
   "outputs": [],
   "source": [
    "real_det = (SNR_sim > 0.)\n",
    "false_positive = (SNR_sim <= 0.)"
   ]
  },
  {
   "cell_type": "markdown",
   "id": "bd8bc155",
   "metadata": {},
   "source": [
    "Below, a conditional is created where the clusters matched the simulated (confirmed)\n",
    "and where clusters are just candidates."
   ]
  },
  {
   "cell_type": "code",
   "execution_count": null,
   "id": "f4782019",
   "metadata": {
    "slideshow": {
     "slide_type": "slide"
    }
   },
   "outputs": [],
   "source": [
    "cm = plt.cm.get_cmap('copper_r')\n",
    "\n",
    "fig = plt.figure(figsize=(16, 10))\n",
    "plt.scatter(ra_sim, dec_sim, c=SNR_sim_all,\n",
    "            vmin=0, vmax=np.max(SNR_det),\n",
    "            cmap=cm,\n",
    "            s=100.0, marker='^', label='Simulations')\n",
    "sc = plt.scatter(ra_det[real_det], dec_det[real_det], c=SNR_det[real_det],\n",
    "                 vmin=0, vmax=np.max(SNR_det), marker='x',\n",
    "                 s=150., cmap=cm, label='Simulated and detected')\n",
    "plt.scatter(ra_det[false_positive], dec_det[false_positive], c=SNR_det[false_positive],\n",
    "            s=200.0, cmap=cm, lw=2, alpha=0.75, label='Not matched')\n",
    "plt.colorbar(sc,label = 'SNR detection')\n",
    "plt.xlim(np.max(ra_sim)+0.5, np.min(ra_sim)-0.5)\n",
    "plt.ylim(np.min(dec_sim)-0.5, np.max(dec_sim)+1.0)\n",
    "plt.xlabel('RA')\n",
    "plt.ylabel('DEC')\n",
    "plt.title('Spatial distribution of clusters')\n",
    "plt.legend(loc=1)\n",
    "plt.show()"
   ]
  },
  {
   "cell_type": "code",
   "execution_count": null,
   "id": "127927bb-458e-4334-bd3b-f86e224aa5bb",
   "metadata": {},
   "outputs": [],
   "source": [
    "fig = plt.figure(figsize=(16, 10))\n",
    "plt.scatter(ra_sim, dec_sim, c=SNR_sim_all,\n",
    "            vmin=0, vmax=np.max(SNR_det),\n",
    "            cmap=cm,\n",
    "            s=100.0, marker='^', label='Simulations')\n",
    "cond = (real_det)&(SNR_det > 5)\n",
    "sc = plt.scatter(ra_det[cond], dec_det[cond], c=SNR_det[cond],\n",
    "                 vmin=5, vmax=np.max(SNR_det[cond]), marker='x',\n",
    "                 s=150., cmap=cm, label='Simulated and detected')\n",
    "plt.scatter(ra_det[false_positive&cond], dec_det[false_positive&cond], c=SNR_det[false_positive&cond],\n",
    "            s=200.0, cmap=cm, lw=2, alpha=0.75, label='Not matched')\n",
    "plt.colorbar(sc,label = 'SNR detection')\n",
    "plt.xlim(np.max(ra_sim)+0.5, np.min(ra_sim)-0.5)\n",
    "plt.ylim(np.min(dec_sim)-0.5, np.max(dec_sim)+1.0)\n",
    "plt.xlabel('RA')\n",
    "plt.ylabel('DEC')\n",
    "plt.title('Spatial distribution of clusters with SNR > 5')\n",
    "plt.legend(loc=1)\n",
    "plt.show()"
   ]
  },
  {
   "cell_type": "code",
   "execution_count": null,
   "id": "088b116c-c906-4407-8cbf-a34c72ea2204",
   "metadata": {},
   "outputs": [],
   "source": [
    "fig = plt.figure(figsize=(16, 10))\n",
    "plt.scatter(ra_sim, dec_sim, c=SNR_sim_all, vmin=0, vmax=np.max(SNR_det), cmap=cm, s=100.0, marker='^', label='Simulations')\n",
    "cond = (real_det)&(SNR_det > 10)\n",
    "sc = plt.scatter(ra_det[cond], dec_det[cond], c=SNR_det[cond], vmin=10, vmax=np.max(SNR_det[cond]), marker='x',\n",
    "                 s=150., cmap=cm, label='Simulated and detected')\n",
    "plt.scatter(ra_det[false_positive&cond], dec_det[false_positive&cond], c=SNR_det[false_positive&cond],\n",
    "            s=200.0, cmap=cm, lw=2, alpha=0.75, label='Not matched')\n",
    "plt.colorbar(sc, label = 'SNR detection')\n",
    "plt.xlim(np.max(ra_sim) + 0.5, np.min(ra_sim)-0.5)\n",
    "plt.ylim(np.min(dec_sim) - 0.5, np.max(dec_sim)+1.0)\n",
    "plt.xlabel('RA')\n",
    "plt.ylabel('DEC')\n",
    "plt.title('Spatial distribution of clusters with SNR > 10')\n",
    "plt.legend(loc=1)\n",
    "plt.show()"
   ]
  },
  {
   "cell_type": "markdown",
   "id": "3fcf093b",
   "metadata": {},
   "source": [
    "We can notice that all detected and true clusters (True Positives) have high signal-to-noise ratio (SNR),\n",
    "while those with low SNR are false positives (FP), represented by small blue circles.\n",
    "\n",
    "It is important to highlight in this case that all simulated clusters were detected. There may be cases where\n",
    "not all simulated clusters are detected. In this case, the code should read the clusters\n",
    "simulated again to see how complete the detection is.\n",
    "\n",
    "## Purity of detection modulus distance\n",
    "\n",
    "Below we will calculate the detection purity given the detected distance."
   ]
  },
  {
   "cell_type": "code",
   "execution_count": null,
   "id": "114e7332",
   "metadata": {},
   "outputs": [],
   "source": [
    "# 0-peak_id 1-ra 2-dec 3-iobj 4-jobj 5-dist_init_kpc 6-dist_err_kpc 7-dist_min_kpc 8-dist_max_kpc 9-coverfrac\n",
    "# 10-coverfrac_bkg 11-wradius_arcmin 12-snr 13-Naper 14-Naper_tot 15-NWaper_tot 16-Naper_bkg 17-icyl 18-tile 19-slice\n",
    "# 20-id_in_tile 21-id 22-HPX64 23-N 24-MV 25-SNR 26-N_f 27-MV_f 28-SNR_f 29-L\n",
    "# 30-B 31-ra 32-dec 33-r_exp 34-ell 35-pa 36-mass 37-dist'\n",
    "dist_kpc_det, disterr_kpc_det = np.loadtxt(match_file, usecols=(5, 6), unpack=True)\n",
    "\n",
    "m_M_det = 5 * np.log10(dist_kpc_det) + 10.\n",
    "\n",
    "plot_pure(m_M_det, m_M_det[real_det], 'Detection distance module', 'Detection distance module(pureness)', bins_mM)"
   ]
  },
  {
   "cell_type": "code",
   "execution_count": null,
   "id": "c964e22a",
   "metadata": {},
   "outputs": [],
   "source": [
    "plot_pure(SNR_det, SNR_det[real_det], 'Signal-to-noise ratio (detection)', 'Signal-to-noise ratio(pureness)')"
   ]
  },
  {
   "cell_type": "code",
   "execution_count": null,
   "id": "c41cafe3-33e2-45d3-9812-79471336c24d",
   "metadata": {},
   "outputs": [],
   "source": [
    "ipix, Nstar, M_V, SNR, L, B, RA_pix, DEC_pix, r_exp_pc, ell, pa, mass, dist = np.loadtxt(input_simulation_path + '/star_clusters_simulated.dat',\n",
    "                                                                                         usecols=(0, 4, 5, 6, 7, 8, 9, 10, 11, 12, 13, 14, 15),\n",
    "                                                                                         unpack=True)\n",
    "\n",
    "plot_comp(M_V, idx_sim, 'M_V', 'Absolute Magnitude in V band')"
   ]
  },
  {
   "cell_type": "code",
   "execution_count": null,
   "id": "1fce4b97-64d3-43d8-b5be-0ffb9267beea",
   "metadata": {},
   "outputs": [],
   "source": [
    "plot_comp(dist, idx_sim, 'r (pc) simulated', 'Distance (simulations)')"
   ]
  },
  {
   "cell_type": "code",
   "execution_count": null,
   "id": "6d83c0ff-8c00-426e-a49a-7511d7844749",
   "metadata": {},
   "outputs": [],
   "source": [
    "plot_comp(SNR, idx_sim, 'SNR', 'Signal to Noise Ratio')"
   ]
  },
  {
   "cell_type": "code",
   "execution_count": null,
   "id": "16d14cd0-1d53-4e5b-b61e-fea24a928a6c",
   "metadata": {},
   "outputs": [],
   "source": [
    "mM_sim = 5 * np.log10(dist) - 5.\n",
    "\n",
    "plot_comp(mM_sim, idx_sim, 'm-M', 'Distance modulus')"
   ]
  },
  {
   "cell_type": "markdown",
   "id": "f47cdc73-8099-4f6d-93bb-6899872b3b71",
   "metadata": {},
   "source": [
    "### More plots"
   ]
  },
  {
   "cell_type": "code",
   "execution_count": null,
   "id": "8a011c8f-4d26-481f-b862-acf783c2a61d",
   "metadata": {},
   "outputs": [],
   "source": [
    "# Convert to function:\n",
    "half_light_radius_arcmin = 1.7 * 60. * np.rad2deg(np.arctan(exp_rad_sim / dist_sim))\n",
    "\n",
    "fig = plt.figure(figsize=(16, 10))\n",
    "plt.scatter(half_light_radius_arcmin, wrad_arcmin_det / 4, c='k', marker='s')\n",
    "plt.plot(np.linspace(0., 1.1 * np.max(wrad_arcmin_det), 4), np.linspace(0., 1.1 * np.max(wrad_arcmin_det), 4), color = 'r')\n",
    "plt.xlabel(r'$r_{1/2}$ arcmin (simulations)')\n",
    "plt.ylabel(r'wrad arcmin (detection)')\n",
    "plt.xlim([0, 1.1*np.max(wrad_arcmin_det / 4)])\n",
    "plt.ylim([0, 1.1*np.max(wrad_arcmin_det / 4)])\n",
    "plt.show()"
   ]
  },
  {
   "cell_type": "code",
   "execution_count": null,
   "id": "43fda34c-ae2c-4c0f-a299-05b7489c3a14",
   "metadata": {},
   "outputs": [],
   "source": [
    "fig = plt.figure(figsize=(16, 10))\n",
    "plt.scatter(SNR_sim, SNR_det)\n",
    "plt.plot(np.linspace(0., 1.1 * max(np.max(SNR_sim),np.max(SNR_det)), 4),\n",
    "        np.linspace(0., 1.1 * max(np.max(SNR_sim),np.max(SNR_det)), 4), color = 'r')\n",
    "plt.xlabel('SNR (simulations)')\n",
    "plt.ylabel('SNR (detections)')\n",
    "plt.xlim([0.1, 1.05 * max(np.max(SNR_sim),np.max(SNR_det))])\n",
    "plt.ylim([0.1, 1.05 * max(np.max(SNR_sim),np.max(SNR_det))])\n",
    "plt.show()"
   ]
  },
  {
   "cell_type": "code",
   "execution_count": null,
   "id": "4293cde1-3c38-4b1d-b939-c244b347f48c",
   "metadata": {},
   "outputs": [],
   "source": [
    "dist_sim_kpc = dist_sim / 1000\n",
    "fig = plt.figure(figsize=(16, 10))\n",
    "plt.errorbar(dist_sim_kpc, dist_init_kpc_det, yerr=dist_err_kpc_det, xerr=None,\n",
    "             fmt='o', c='k')\n",
    "plt.plot(np.linspace(0.8 * min(np.min(dist_sim_kpc),np.min(dist_init_kpc_det)), 1.2 * max(np.max(dist_sim_kpc),np.max(dist_init_kpc_det)), 4),\n",
    "        np.linspace(0.8 * min(np.min(dist_sim_kpc),np.min(dist_init_kpc_det)), 1.2 * max(np.max(dist_sim_kpc),np.max(dist_init_kpc_det)), 4), color = 'r')\n",
    "plt.xlim([0.8 * min(np.min(dist_sim_kpc),np.min(dist_init_kpc_det)), 1.2 * max(np.max(dist_sim_kpc),np.max(dist_init_kpc_det))])\n",
    "plt.ylim([0.8 * min(np.min(dist_sim_kpc),np.min(dist_init_kpc_det)), 1.2 * max(np.max(dist_sim_kpc),np.max(dist_init_kpc_det))])\n",
    "plt.title('Comparing recovery distances')\n",
    "plt.xlabel('Distances (kpc) from simulations')\n",
    "plt.ylabel('Distances (kpc) from detections')\n",
    "plt.show()\n",
    "\n"
   ]
  },
  {
   "cell_type": "code",
   "execution_count": null,
   "id": "8c7bc0cf-3a88-47cc-8b9c-64053557fe5d",
   "metadata": {},
   "outputs": [],
   "source": [
    "# 0-peak_id 1-ra 2-dec 3-iobj 4-jobj 5-dist_init_kpc 6-dist_err_kpc 7-dist_min_kpc 8-dist_max_kpc 9-coverfrac\n",
    "# 10-coverfrac_bkg 11-wradius_arcmin 12-snr 13-Naper 14-Naper_tot 15-NWaper_tot 16-Naper_bkg 17-icyl 18-tile 19-slice\n",
    "# 20-id_in_tile 21-id 22-HPX64 23-N 24-MV 25-SNR 26-N_f 27-MV_f 28-SNR_f 29-L\n",
    "# 30-B 31-ra 32-dec 33-r_exp 34-ell 35-pa 36-mass 37-dist'\n",
    "exp_rad_sim_det, M_V_sim_det, dist_sim_det = np.loadtxt(match_file, usecols=(33, 27, 37), unpack=True)\n",
    "\n",
    "full_completeness_distances(M_V, M_V_sim_det, 1.7 * r_exp_pc, 1.7 * exp_rad_sim_det, dist, dist_sim_det)"
   ]
  },
  {
   "cell_type": "code",
   "execution_count": null,
   "id": "8afecada-d983-4426-8712-01ba53b9f882",
   "metadata": {},
   "outputs": [],
   "source": []
  }
 ],
 "metadata": {
  "kernelspec": {
   "display_name": "emcee",
   "language": "python",
   "name": "emcee"
  },
  "language_info": {
   "codemirror_mode": {
    "name": "ipython",
    "version": 3
   },
   "file_extension": ".py",
   "mimetype": "text/x-python",
   "name": "python",
   "nbconvert_exporter": "python",
   "pygments_lexer": "ipython3",
   "version": "3.10.4"
  }
 },
 "nbformat": 4,
 "nbformat_minor": 5
}
