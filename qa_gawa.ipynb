{
 "cells": [
  {
   "cell_type": "code",
   "execution_count": null,
   "id": "fcf6daf0",
   "metadata": {
    "slideshow": {
     "slide_type": "slide"
    }
   },
   "outputs": [],
   "source": [
    "from matplotlib import pyplot as plt\n",
    "from pandas import pandas as pd\n",
    "import numpy as np\n",
    "import warnings, json, astropy\n",
    "import astropy.io.fits as fits\n",
    "from astropy.io.fits import getdata\n",
    "import astropy.units as u\n",
    "from astropy.coordinates import SkyCoord\n",
    "warnings.filterwarnings(\"ignore\")\n",
    "# plt.rcParams[\"figure.figsize\"] = (10,8)\n",
    "# plt.style.use(['science' , 'notebook', 'grid'])"
   ]
  },
  {
   "cell_type": "markdown",
   "id": "0feae578",
   "metadata": {},
   "source": [
    "## Introduction\n",
    "\n",
    "In this jupyter notebook we are working with simulated cluster detections.\n",
    "There is a table of simulated clusters that were entered into a stellar field, and another table\n",
    "of detections, where a positional match has already been made between the simulated and detected clusters.\n",
    "\n",
    "In this round, 66 globular clusters with exponential density profile were simulated,\n",
    "where each cluster is located at the center of a HealPix pixel with nside=64,\n",
    "with the distance between one cluster and another ~1 degree and a half-light radius of ~1 arcmin.\n",
    "\n",
    "Below is information about detections only."
   ]
  },
  {
   "cell_type": "code",
   "execution_count": null,
   "id": "2f8570ad",
   "metadata": {},
   "outputs": [],
   "source": [
    "# Main settings:\n",
    "confg = \"qa_gawa.json\"\n",
    "\n",
    "# read config file\n",
    "with open(confg) as fstream:\n",
    "    param = json.load(fstream)\n",
    "\n",
    "globals.update(param)\n",
    "\n",
    "# Diretório para os resultados\n",
    "os.system(\"mkdir -p \" + input_detection_path + \"/qa\")\n",
    "\n",
    "file_match = open(os.system(\"mkdir -p \" + input_detection_path + \"/qa/match.dat\"), 'w')"
   ]
  },
  {
   "cell_type": "code",
   "execution_count": null,
   "id": "eb0ff348",
   "metadata": {},
   "outputs": [],
   "source": [
    "Reading data from detections and simulations:"
   ]
  },
  {
   "cell_type": "code",
   "execution_count": null,
   "id": "6ed3a3df",
   "metadata": {},
   "outputs": [],
   "source": [
    "det_file = input_detection_path + '/clusters.fits'\n",
    "\n",
    "data_det = getdata(det_file)\n",
    "ra_det = data_det[\"ra\"]\n",
    "dec_det = data_det[\"dec\"]\n",
    "\n",
    "#0-HPX64 1-N 2-MV 3-SNR 4-N_f 5-MV_f 6-SNR_f 7-L 8-B 9-ra 10-dec 11-r_exp 12-ell 13-pa 14-mass 15-dist\n",
    "data_sim = np.loadtxt(input_detection_path + '/star_clusters_simulated.dat', unpack=True)\n",
    "\n",
    "ra_sim, dec_sim = np.loadtxt(input_detection_path + '/star_clusters_simulated.dat', usecols=(9, 10), unpack=True)"
   ]
  },
  {
   "cell_type": "code",
   "execution_count": null,
   "id": "a28f9173",
   "metadata": {},
   "outputs": [],
   "source": [
    "C_sim = SkyCoord(ra=ra_sim*u.degree, dec=dec_sim*u.degree)\n",
    "C_det = SkyCoord(ra=ra_det*u.degree, dec=dec_det*u.degree)\n",
    "\n",
    "idx_sim, idx_det, d2d, d3d = C_det.search_around_sky(C_sim, 1*u.arcmin)\n",
    "\n",
    "idx_det_outliers = [i for i in range(len(data_sim)) if i not in idx_det]\n",
    "\n",
    "for i,j in zip(idx_sim, idx_det):\n",
    "    print(data_det[j], data_sim[i], file=file_match)\n",
    "\n",
    "for i in (idx_det_outliers):\n",
    "    print(data_det[i], np.repeat(' -99.999 ' * len(data_sim[0])), file=file_match)\n",
    "\n",
    "file_match.close()\n",
    "\n",
    "Name, Class = np.loadtxt('detections.txt', usecols=(8, 11), dtype=str, unpack=True)"
   ]
  },
  {
   "cell_type": "code",
   "execution_count": null,
   "id": "96676069",
   "metadata": {},
   "outputs": [],
   "source": [
    "N, HPX64, N0_order = np.loadtxt('detections.txt', usecols=(0, 15, 19), dtype=int, unpack=True)"
   ]
  },
  {
   "cell_type": "markdown",
   "id": "f92b2c52",
   "metadata": {},
   "source": [
    "Below, a conditional is created where the clusters matched the simulated (confirmed)\n",
    "and where clusters are just candidates."
   ]
  },
  {
   "cell_type": "code",
   "execution_count": null,
   "id": "bc81be7d",
   "metadata": {},
   "outputs": [],
   "source": [
    "real_det = (Class == 'conf')\n",
    "false_positive = (Class == 'cand')"
   ]
  },
  {
   "cell_type": "markdown",
   "id": "bd8bc155",
   "metadata": {},
   "source": [
    "Below, a conditional is created where the clusters matched the simulated (confirmed)\n",
    "and where clusters are just candidates."
   ]
  },
  {
   "cell_type": "code",
   "execution_count": null,
   "id": "f4782019",
   "metadata": {
    "slideshow": {
     "slide_type": "slide"
    }
   },
   "outputs": [],
   "source": [
    "cm = plt.cm.get_cmap('inferno_r')\n",
    "plt.figure(figsize=(10, 6))\n",
    "sc = plt.scatter(RA, DEC, c= SNR, vmin=0, vmax=np.max(SNR),  s=SNR, cmap=cm, alpha=0.75)\n",
    "plt.colorbar(sc,label = 'SNR')\n",
    "plt.xlim(np.max(RA), np.min(RA))\n",
    "plt.xlabel('RA')\n",
    "plt.ylabel('DEC')\n",
    "plt.title('Spatial distribution of clusters detected by Gawa wrt SNR')"
   ]
  },
  {
   "cell_type": "markdown",
   "id": "3fcf093b",
   "metadata": {},
   "source": [
    "We can notice that all detected and true clusters (True Positives) have high signal-to-noise ratio (SNR),\n",
    "while those with low SNR are false positives (FP), represented by small blue circles.\n",
    "\n",
    "It is important to highlight in this case that all simulated clusters were detected. There may be cases where\n",
    "not all simulated clusters are detected. In this case, the code should read the clusters\n",
    "simulated again to see how complete the detection is.\n",
    "\n",
    "## Purity of detection distance\n",
    "\n",
    "Below we will calculate the detection purity given the detected distance."
   ]
  },
  {
   "cell_type": "code",
   "execution_count": null,
   "id": "23663e29",
   "metadata": {
    "slideshow": {
     "slide_type": "slide"
    }
   },
   "outputs": [],
   "source": [
    "def plot_pure(arg_all, arg_conf, label, title):\n",
    "    fig, (ax1, ax2) = plt.subplots(1, 2, figsize=(16,6))\n",
    "    A = ax1.hist(arg_all, bins=20, range=(np.min(arg_all), np.max(arg_all)), histtype='step', label='All detections')\n",
    "    B = ax1.hist(arg_conf, bins=20, range=(np.min(arg_all), np.max(arg_all)), histtype='step', label='True clusters')\n",
    "    pureness = B[0] / A[0]\n",
    "    ax1.set_xlabel(label)\n",
    "    ax1.set_ylabel( 'Number of clusters detected')\n",
    "    ax1.legend()\n",
    "    \n",
    "    plt.step(A[1][0:-1], np.nan_to_num(pureness), ':r', label='NaN=0.')\n",
    "    ax2.step(A[1][0:-1],pureness, label='Data', color='k')\n",
    "    ax2.set_xlabel(label)\n",
    "    ax2.set_ylabel('Puriness')\n",
    "    ax2.set_ylim([0,1.2])\n",
    "    ax2.legend()\n",
    "    fig.suptitle(title)\n",
    "    plt.show()"
   ]
  },
  {
   "cell_type": "code",
   "execution_count": null,
   "id": "0036a4b8",
   "metadata": {},
   "outputs": [],
   "source": [
    "plot_pure(DistDet_kpc, DistDet_kpc_conf , 'Distance of detection (kpc)', 'Distance of detection (pureness)')"
   ]
  },
  {
   "cell_type": "code",
   "execution_count": null,
   "id": "114e7332",
   "metadata": {},
   "outputs": [],
   "source": [
    "plot_pure(m_M_det, m_M_det_conf , 'Detection distance module', 'Detection distance module(pureness)')"
   ]
  },
  {
   "cell_type": "code",
   "execution_count": null,
   "id": "c964e22a",
   "metadata": {},
   "outputs": [],
   "source": [
    "plot_pure(SNR, SNR_conf, 'Signal-to-noise ratio (detection)', 'Signal-to-noise ratio(pureness)')"
   ]
  },
  {
   "cell_type": "code",
   "execution_count": null,
   "id": "7457293d",
   "metadata": {},
   "outputs": [],
   "source": [
    "plot_pure(wave_peak, wave_peak_conf , 'Detection wave peak', 'Detection wave peak (pureness)')"
   ]
  },
  {
   "cell_type": "code",
   "execution_count": null,
   "id": "01879a8a",
   "metadata": {},
   "outputs": [],
   "source": [
    "plot_pure(SNR_rank, SNR_rank_conf , 'Detection information', 'Detection information (pureness)')"
   ]
  },
  {
   "cell_type": "code",
   "execution_count": null,
   "id": "e20c196b",
   "metadata": {},
   "outputs": [],
   "source": [
    "plot_pure(Wave_r3, Wave_r3_conf , 'Detection information', 'Detection information (pureness)')"
   ]
  },
  {
   "cell_type": "code",
   "execution_count": null,
   "id": "ef2a4917",
   "metadata": {},
   "outputs": [],
   "source": [
    "plot_pure(SNR_rank, SNR_rank , 'Detection information', 'Detection information (pureness)')"
   ]
  },
  {
   "cell_type": "code",
   "execution_count": null,
   "id": "5521a1f1",
   "metadata": {},
   "outputs": [],
   "source": [
    "Nstar, M_V, SNR, L, B, RA_pix, DEC_pix, r_exp, ellpa, mass, dist = np.loadtxt('simulations.txt', usecols=(2,3,4,5,6,7,8,9,10,11,12) , unpack=True)"
   ]
  }
 ],
 "metadata": {
  "kernelspec": {
   "display_name": "Python 3 (ipykernel)",
   "language": "python",
   "name": "python3"
  },
  "language_info": {
   "codemirror_mode": {
    "name": "ipython",
    "version": 3
   },
   "file_extension": ".py",
   "mimetype": "text/x-python",
   "name": "python",
   "nbconvert_exporter": "python",
   "pygments_lexer": "ipython3",
   "version": "3.9.12"
  }
 },
 "nbformat": 4,
 "nbformat_minor": 5
}
