{
 "cells": [
  {
   "cell_type": "code",
   "execution_count": null,
   "id": "fcf6daf0",
   "metadata": {
    "slideshow": {
     "slide_type": "slide"
    }
   },
   "outputs": [],
   "source": [
    "import matplotlib.pyplot as plt\n",
    "import numpy as np\n",
    "import warnings, json, astropy, os, tabulate\n",
    "import astropy.io.fits as fits\n",
    "from astropy.io.fits import getdata\n",
    "import astropy.units as u\n",
    "from astropy.coordinates import SkyCoord\n",
    "warnings.filterwarnings(\"ignore\")\n",
    "from qa_gawa.qa_gawa import (\n",
    "    plot_pure,\n",
    "    plot_comp,\n",
    "    full_completeness_distances,\n",
    "    plot_clus_position,\n",
    "    plots_ang_size,\n",
    "    general_plots,\n",
    "    recursive_print_dict,\n",
    "    plot_masks,\n",
    "    matching_sim_det,\n",
    "    write_det_numbers,\n",
    "    SNR_hist,\n",
    "    dist_hist,\n",
    "    det_sky,\n",
    "    dist_dist,\n",
    "    SNR_SNR,\n",
    "    puri_comp,\n",
    "    plot_pure_mM,\n",
    "    plot_pure_SNR,\n",
    "    plot_comp_all,\n",
    "    print_undet_table,\n",
    "    print_undet_table_tail,\n",
    "    undet_cmds\n",
    ")\n",
    "\n",
    "import tabulate\n",
    "import matplotlib \n",
    "font = {'family' : 'DejaVu Sans',\n",
    "        'weight' : 'normal',\n",
    "        'size'   : 12}\n",
    "\n",
    "matplotlib.rc('font', **font)"
   ]
  },
  {
   "cell_type": "markdown",
   "id": "0feae578",
   "metadata": {},
   "source": [
    "This jupyter notebook is intended to show plots about the ability of Gawa to recover simulated stellar systems. <br>\n",
    "You can find the link of the simulations clicking [here](http://devel2.linea.org.br/~adriano.pieres/gawa_processes/00049/simulations/). <br>\n",
    "The two main inputs are the list of clusters simulated and the list of detected clusters. <br>\n",
    "\n",
    "Reading the configuration file and creating a folder for the results:"
   ]
  },
  {
   "cell_type": "code",
   "execution_count": null,
   "id": "2f8570ad",
   "metadata": {},
   "outputs": [],
   "source": [
    "with open(\"qa_gawa.json\") as fstream:\n",
    "    param = json.load(fstream)\n",
    "\n",
    "globals().update(param)\n",
    "\n",
    "os.system(\"mkdir -p \" + input_detection_path + \"/qa\")\n",
    "\n",
    "config_gawa = input_detection_path + \"/gawa.cfg\"\n",
    "\n",
    "with open(config_gawa) as fstream:\n",
    "    param2 = json.load(fstream)\n",
    "mask_file = param2['isochrone_masks'][param2['survey']]['model_file']"
   ]
  },
  {
   "cell_type": "markdown",
   "id": "280eea57-9d2d-4b39-9e0f-2aee1add19e6",
   "metadata": {},
   "source": [
    "## Initial parameters"
   ]
  },
  {
   "cell_type": "code",
   "execution_count": null,
   "id": "5c17eb26",
   "metadata": {},
   "outputs": [],
   "source": [
    "recursive_print_dict(param2)"
   ]
  },
  {
   "cell_type": "markdown",
   "id": "4b5f8328-12b6-4a1e-8461-5eef88c34e81",
   "metadata": {},
   "source": [
    "## Matching detections and simulations\n",
    "\n",
    "The main parameter is the dist2match_n_hlr (distance to match detections and simulations in terms of half-light radius)."
   ]
  },
  {
   "cell_type": "code",
   "execution_count": null,
   "id": "a28f9173",
   "metadata": {},
   "outputs": [],
   "source": [
    "print('Distance to match detections and simulations: {:.2f} half-light radius.'.format(dist2match_n_hlr))\n",
    "\n",
    "idx_sim, idx_det = matching_sim_det(input_simulation_path + '/star_clusters_simulated.dat', input_detection_path + '/clusters.fits',\n",
    "                 match_file, unmatch_file, dist2match_n_hlr)\n"
   ]
  },
  {
   "cell_type": "markdown",
   "id": "160586fe-b7ca-4644-b791-95e32be89e68",
   "metadata": {},
   "source": [
    "## Detections and simulations in numbers"
   ]
  },
  {
   "cell_type": "code",
   "execution_count": null,
   "id": "96676069",
   "metadata": {},
   "outputs": [],
   "source": [
    "write_det_numbers(input_simulation_path, match_file, unmatch_file)"
   ]
  },
  {
   "cell_type": "markdown",
   "id": "9176486d-371e-437f-8699-cea32985ab13",
   "metadata": {},
   "source": [
    "## Isochronal masks\n",
    "\n",
    "Now plotting the set of masks applied to detect simulated clusters:"
   ]
  },
  {
   "cell_type": "code",
   "execution_count": null,
   "id": "2ac26074-6e8d-4400-a88c-b7a67fe40627",
   "metadata": {},
   "outputs": [],
   "source": [
    "distances = plot_masks(input_detection_path, mask_file, param2)\n",
    "print('Distances array: {} pc.'.format(distances))\n"
   ]
  },
  {
   "cell_type": "markdown",
   "id": "3a53a6ff",
   "metadata": {},
   "source": [
    "## SNR histogram"
   ]
  },
  {
   "cell_type": "code",
   "execution_count": null,
   "id": "e50b54bd-ca0c-4c8f-8556-e0cb530bb2c7",
   "metadata": {},
   "outputs": [],
   "source": [
    "SNR_hist(match_file, unmatch_file)"
   ]
  },
  {
   "cell_type": "markdown",
   "id": "db1f4092",
   "metadata": {},
   "source": [
    "## Distance histogram"
   ]
  },
  {
   "cell_type": "code",
   "execution_count": null,
   "id": "1a942809-f0bc-4d17-a3f3-5bd4dfe362d1",
   "metadata": {},
   "outputs": [],
   "source": [
    "dist_hist(match_file)\n",
    "\n", 
    "dist_dist(match_file)\n"
   ]
  },
  {
   "cell_type": "markdown",
   "id": "781154a8",
   "metadata": {},
   "source": [
    "## Distribution of simulations and detections into the sky"
   ]
  },
  {
   "cell_type": "code",
   "execution_count": null,
   "id": "088b116c-c906-4407-8cbf-a34c72ea2204",
   "metadata": {},
   "outputs": [],
   "source": [
    "det_sky(input_simulation_path, match_file, unmatch_file)"
   ]
  },
  {
   "cell_type": "markdown",
   "id": "9bb884a5-35a4-45f5-8cb6-31afb118033e",
   "metadata": {},
   "source": [
    "## SNR from detections and simulations\n",
    "Make a box and whisker plot for each column of x or each vector in sequence x.\n",
    "The box extends from the lower to upper quartile values of the data, with a line at the median.\n",
    "The whiskers extend from the box to show the range of the data.\n",
    "Flier points are those past the end of the whiskers\n"
   ]
  },
  {
   "cell_type": "code",
   "execution_count": null,
   "id": "ea78e1dd-b87e-4002-8507-c76c475b6262",
   "metadata": {},
   "outputs": [],
   "source": [
    "SNR_SNR(match_file)"
   ]
  },
  {
   "cell_type": "markdown",
   "id": "c227062c",
   "metadata": {},
   "source": [
    "## Distance from detections and simulations"
   ]
  },
  {
   "cell_type": "markdown",
   "id": "6f92caf9-d4c8-4909-beb0-f9d98c526c1d",
   "metadata": {},
   "source": [
    "## Purity of detection distance modulus"
   ]
  },
  {
   "cell_type": "code",
   "execution_count": null,
   "id": "c4c46c54-f857-4294-a89e-b5e1ca099525",
   "metadata": {},
   "outputs": [],
   "source": [
    "puri_comp(input_detection_path, input_simulation_path, match_file, unmatch_file)"
   ]
  },
  {
   "cell_type": "markdown",
   "id": "ac4af412-0354-4d03-b262-7a5227079991",
   "metadata": {},
   "source": [
    "## Purity of detections regarding distance modulus (m-M)"
   ]
  },
  {
   "cell_type": "code",
   "execution_count": null,
   "id": "114e7332",
   "metadata": {},
   "outputs": [],
   "source": [
    "plot_pure_mM(input_detection_path, match_file)"
   ]
  },
  {
   "cell_type": "markdown",
   "id": "274a19dc",
   "metadata": {},
   "source": [
    "## Purity of detections regarding SNR (SNR > 3)"
   ]
  },
  {
   "cell_type": "code",
   "execution_count": null,
   "id": "c964e22a",
   "metadata": {},
   "outputs": [],
   "source": [
    "plot_pure_SNR(match_file, 3.)"
   ]
  },
  {
   "cell_type": "markdown",
   "id": "aad2488c",
   "metadata": {},
   "source": [
    "## Purity of detections regarding SNR (SNR > 5)"
   ]
  },
  {
   "cell_type": "code",
   "execution_count": null,
   "id": "b5fd8adb",
   "metadata": {},
   "outputs": [],
   "source": [
    "plot_pure_SNR(match_file, 5.)"
   ]
  },
  {
   "cell_type": "markdown",
   "id": "0f752dce",
   "metadata": {},
   "source": [
    "## Purity of detections regarding SNR (SNR > 10)"
   ]
  },
  {
   "cell_type": "code",
   "execution_count": null,
   "id": "5e07be8a",
   "metadata": {},
   "outputs": [],
   "source": [
    "plot_pure_SNR(match_file, 10.)"
   ]
  },
  {
   "cell_type": "markdown",
   "id": "8a42faa2-d383-4ea3-805e-06dcde28eea2",
   "metadata": {},
   "source": [
    "## Completeness of detections"
   ]
  },
  {
   "cell_type": "code",
   "execution_count": null,
   "id": "c41cafe3-33e2-45d3-9812-79471336c24d",
   "metadata": {},
   "outputs": [],
   "source": [
    "plot_comp_all(input_simulation_path, match_file, idx_sim)"
   ]
  },
  {
   "cell_type": "markdown",
   "id": "1028db2d-ac3f-45bd-90cd-77efc4869786",
   "metadata": {},
   "source": [
    "## Clusters simulated but not detected\n",
    "### Table of undetected objects"
   ]
  },
  {
   "cell_type": "code",
   "execution_count": null,
   "id": "2a53de53-a955-4ed5-9575-3b39e1e2b220",
   "metadata": {},
   "outputs": [],
   "source": [
    "print_undet_table(unmatch_file, 20)\n"
   ]
  },
  {
   "cell_type": "code",
   "execution_count": null,
   "id": "07d24236",
   "metadata": {},
   "outputs": [],
   "source": [
    "\n",
    "print_undet_table_tail(unmatch_file, 20)"
   ]
  },
  {
   "cell_type": "markdown",
   "id": "e82656a4",
   "metadata": {},
   "source": [
    "### CMDs of undetected objects"
   ]
  },
  {
   "cell_type": "code",
   "execution_count": null,
   "id": "51bdf6fc-891f-4267-98de-b6844c9fafaf",
   "metadata": {},
   "outputs": [],
   "source": [
    "undet_cmds(unmatch_file, mask_file, input_simulation_path, input_detection_path, param2)"
   ]
  },
  {
   "cell_type": "markdown",
   "id": "e9030a60",
   "metadata": {},
   "source": [
    "### General plots of undetected clusters"
   ]
  },
  {
   "cell_type": "code",
   "execution_count": null,
   "id": "f1a3dd22-6c74-44e9-9d0f-d992339898ee",
   "metadata": {},
   "outputs": [],
   "source": [
    "general_plots(input_simulation_path + '/star_clusters_simulated.dat', unmatch_file)"
   ]
  },
  {
   "cell_type": "markdown",
   "id": "04629d33",
   "metadata": {},
   "source": [
    "### Distribution of stars in undetected clusters"
   ]
  },
  {
   "cell_type": "code",
   "execution_count": null,
   "id": "b951f1ab-2650-45ab-b94f-87dd783c64e6",
   "metadata": {},
   "outputs": [],
   "source": [
    "plots_ang_size(input_simulation_path + '/star_clusters_simulated.dat', unmatch_file, -2.00)"
   ]
  },
  {
   "cell_type": "markdown",
   "id": "4fb812de",
   "metadata": {},
   "source": [
    "### Distribution of undetected clusters"
   ]
  },
  {
   "cell_type": "code",
   "execution_count": null,
   "id": "64f9cea6-faa1-4297-b048-9b1658a52e73",
   "metadata": {},
   "outputs": [],
   "source": [
    "plot_clus_position(unmatch_file, 'ra', 'dec', input_simulation_path + '/hpx_cats_clean')"
   ]
  }
 ],
 "metadata": {
  "kernelspec": {
   "display_name": "Python 3.6.13 ('gawa')",
   "language": "python",
   "name": "python3"
  },
  "language_info": {
   "codemirror_mode": {
    "name": "ipython",
    "version": 3
   },
   "file_extension": ".py",
   "mimetype": "text/x-python",
   "name": "python",
   "nbconvert_exporter": "python",
   "pygments_lexer": "ipython3",
   "version": "3.6.13"
  },
  "vscode": {
   "interpreter": {
    "hash": "78dd508532d97fdb0bb768e6034878b387b00d5767955bb441eea51118f92e97"
   }
  }
 },
 "nbformat": 4,
 "nbformat_minor": 5
}
